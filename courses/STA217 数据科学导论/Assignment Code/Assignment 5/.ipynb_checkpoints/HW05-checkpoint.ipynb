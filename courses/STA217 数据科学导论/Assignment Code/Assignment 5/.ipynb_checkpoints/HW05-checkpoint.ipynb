{
 "cells": [
  {
   "cell_type": "markdown",
   "metadata": {},
   "source": [
    "<div style=\"text-align: center; font-size: 25pt\"> Homework 5 </div>"
   ]
  },
  {
   "cell_type": "markdown",
   "metadata": {},
   "source": [
    "# load package"
   ]
  },
  {
   "cell_type": "code",
   "execution_count": 2,
   "metadata": {
    "ExecuteTime": {
     "end_time": "2021-11-22T12:18:01.966766Z",
     "start_time": "2021-11-22T12:18:01.957786Z"
    }
   },
   "outputs": [],
   "source": [
    "# packages\n",
    "import numpy as np\n",
    "import pandas as pd\n",
    "import matplotlib.pyplot as plt\n",
    "%matplotlib inline  \n",
    "\n",
    "# you may add more if you need"
   ]
  },
  {
   "cell_type": "markdown",
   "metadata": {},
   "source": [
    "# Skewed data"
   ]
  },
  {
   "cell_type": "code",
   "execution_count": 3,
   "metadata": {
    "ExecuteTime": {
     "end_time": "2021-11-22T12:05:35.609911Z",
     "start_time": "2021-11-22T12:05:35.256913Z"
    }
   },
   "outputs": [
    {
     "name": "stdout",
     "output_type": "stream",
     "text": [
      "(215464, 4)\n"
     ]
    },
    {
     "data": {
      "text/html": [
       "<div>\n",
       "<style scoped>\n",
       "    .dataframe tbody tr th:only-of-type {\n",
       "        vertical-align: middle;\n",
       "    }\n",
       "\n",
       "    .dataframe tbody tr th {\n",
       "        vertical-align: top;\n",
       "    }\n",
       "\n",
       "    .dataframe thead th {\n",
       "        text-align: right;\n",
       "    }\n",
       "</style>\n",
       "<table border=\"1\" class=\"dataframe\">\n",
       "  <thead>\n",
       "    <tr style=\"text-align: right;\">\n",
       "      <th></th>\n",
       "      <th>user_name</th>\n",
       "      <th>user_created</th>\n",
       "      <th>user_followers</th>\n",
       "      <th>user_friends</th>\n",
       "    </tr>\n",
       "  </thead>\n",
       "  <tbody>\n",
       "    <tr>\n",
       "      <th>0</th>\n",
       "      <td>MyNewsNE</td>\n",
       "      <td>24-05-2020 10:18</td>\n",
       "      <td>64.0</td>\n",
       "      <td>11.0</td>\n",
       "    </tr>\n",
       "    <tr>\n",
       "      <th>1</th>\n",
       "      <td>Shubham Gupta</td>\n",
       "      <td>14-08-2020 16:42</td>\n",
       "      <td>1.0</td>\n",
       "      <td>17.0</td>\n",
       "    </tr>\n",
       "    <tr>\n",
       "      <th>2</th>\n",
       "      <td>Journal of Infectiology</td>\n",
       "      <td>14-12-2017 07:07</td>\n",
       "      <td>143.0</td>\n",
       "      <td>566.0</td>\n",
       "    </tr>\n",
       "    <tr>\n",
       "      <th>3</th>\n",
       "      <td>Zane</td>\n",
       "      <td>18-09-2019 11:01</td>\n",
       "      <td>29.0</td>\n",
       "      <td>25.0</td>\n",
       "    </tr>\n",
       "    <tr>\n",
       "      <th>4</th>\n",
       "      <td>Ann-Maree O’Connor</td>\n",
       "      <td>24-01-2013 14:53</td>\n",
       "      <td>83.0</td>\n",
       "      <td>497.0</td>\n",
       "    </tr>\n",
       "  </tbody>\n",
       "</table>\n",
       "</div>"
      ],
      "text/plain": [
       "                 user_name      user_created  user_followers user_friends\n",
       "0                 MyNewsNE  24-05-2020 10:18            64.0         11.0\n",
       "1            Shubham Gupta  14-08-2020 16:42             1.0         17.0\n",
       "2  Journal of Infectiology  14-12-2017 07:07           143.0        566.0\n",
       "3                     Zane  18-09-2019 11:01            29.0         25.0\n",
       "4       Ann-Maree O’Connor  24-01-2013 14:53            83.0        497.0"
      ]
     },
     "execution_count": 3,
     "metadata": {},
     "output_type": "execute_result"
    }
   ],
   "source": [
    "# load the online user followers data\n",
    "user_follower = pd.read_csv(\"./online_user_followers.csv\")\n",
    "print(user_follower.shape)\n",
    "user_follower.head()"
   ]
  },
  {
   "cell_type": "markdown",
   "metadata": {},
   "source": [
    "<font color='red'>**Question:**</font> The ``user_followers`` and ``user_friends`` have missing values: \n",
    "\n",
    "At first, try to remove the missing rows for ``user_followers``,\n",
    "\n",
    "Then, try to fill the missing values with 0 for ``user_friends``."
   ]
  },
  {
   "cell_type": "code",
   "execution_count": 4,
   "metadata": {
    "ExecuteTime": {
     "end_time": "2021-11-22T12:06:37.122263Z",
     "start_time": "2021-11-22T12:06:37.093295Z"
    }
   },
   "outputs": [],
   "source": [
    "user_follower = user_follower.loc[user_follower.user_followers.isnull() == False]\n",
    "user_follower[\"user_friends\"].fillna(0,inplace = True)"
   ]
  },
  {
   "cell_type": "markdown",
   "metadata": {},
   "source": [
    "<font color='red'>**Question:**</font> Show the min, 25% percentile, median, 75% percentile, max, mean and the stardard deviations of ``user_followers``."
   ]
  },
  {
   "cell_type": "code",
   "execution_count": 5,
   "metadata": {
    "ExecuteTime": {
     "end_time": "2021-11-22T11:37:19.306480Z",
     "start_time": "2021-11-22T11:37:19.272475Z"
    }
   },
   "outputs": [
    {
     "name": "stdout",
     "output_type": "stream",
     "text": [
      "Min: 0.0\n",
      "25% percentile: 121.0\n",
      "Median 509.0\n",
      "75% percentile: 2123.0\n",
      "Max: 16270203.0\n",
      "Mean: 44859.586354310755\n",
      "Standard Deviation: 609132.4231951021\n"
     ]
    }
   ],
   "source": [
    "print(\"Min:\",user_follower[\"user_followers\"].min())\n",
    "print(\"25% percentile:\",user_follower[\"user_followers\"].quantile(.25))\n",
    "print(\"Median\",user_follower[\"user_followers\"].median())\n",
    "print(\"75% percentile:\",user_follower[\"user_followers\"].quantile(.75))\n",
    "print(\"Max:\",user_follower[\"user_followers\"].max())\n",
    "print(\"Mean:\",user_follower[\"user_followers\"].mean())\n",
    "print(\"Standard Deviation:\",user_follower[\"user_followers\"].std())"
   ]
  },
  {
   "cell_type": "markdown",
   "metadata": {},
   "source": [
    "<font color='red'>**Question:**</font> Make a histogram with linear binning for ``user_followers``, try to choose a proper number of bins."
   ]
  },
  {
   "cell_type": "code",
   "execution_count": 115,
   "metadata": {
    "ExecuteTime": {
     "end_time": "2021-11-22T11:50:18.600128Z",
     "start_time": "2021-11-22T11:50:18.338065Z"
    }
   },
   "outputs": [
    {
     "data": {
      "text/plain": [
       "Text(0,0.5,'Count')"
      ]
     },
     "execution_count": 115,
     "metadata": {},
     "output_type": "execute_result"
    },
    {
     "data": {
      "image/png": "[encoded data removed]",
      "text/plain": [
       "<Figure size 432x288 with 1 Axes>"
      ]
     },
     "metadata": {
      "needs_background": "light"
     },
     "output_type": "display_data"
    }
   ],
   "source": [
    "a = user_follower[\"user_followers\"].hist(bins = 10)\n",
    "a.set_xlabel(\"User Friends\")\n",
    "a.set_ylabel(\"Count\")"
   ]
  },
  {
   "cell_type": "markdown",
   "metadata": {},
   "source": [
    "<font color='red'>**Question:**</font> Make a histogram with logarithmic binning for ``user_followers``. Because the values has lots of zeros, we need to make a translation by adding 1 for each value, i.e., make the histogram for ``user_followers``+1."
   ]
  },
  {
   "cell_type": "code",
   "execution_count": 114,
   "metadata": {},
   "outputs": [
    {
     "data": {
      "text/plain": [
       "Text(0,0.5,'Count')"
      ]
     },
     "execution_count": 114,
     "metadata": {},
     "output_type": "execute_result"
    },
    {
     "data": {
      "image/png": "[encoded data removed]",
      "text/plain": [
       "<Figure size 432x288 with 1 Axes>"
      ]
     },
     "metadata": {
      "needs_background": "light"
     },
     "output_type": "display_data"
    }
   ],
   "source": [
    "a = np.log10(user_follower[\"user_followers\"] + 1).hist(bins = 45)\n",
    "a.set_xlabel(\"Log10 User Followers\")\n",
    "a.set_ylabel(\"Count\")"
   ]
  },
  {
   "cell_type": "markdown",
   "metadata": {},
   "source": [
    "<font color='red'>**Question:**</font> Show the PDF, CDF and CCDF for ``user_followers``+1 using the logarithmic binning."
   ]
  },
  {
   "cell_type": "code",
   "execution_count": 50,
   "metadata": {
    "ExecuteTime": {
     "end_time": "2021-11-22T11:51:52.508725Z",
     "start_time": "2021-11-22T11:51:51.468767Z"
    }
   },
   "outputs": [
    {
     "data": {
      "text/plain": [
       "Text(0,0.5,'C.C.D.F.')"
      ]
     },
     "execution_count": 50,
     "metadata": {},
     "output_type": "execute_result"
    },
    {
     "data": {
      "image/png": "[encoded data removed]",
      "text/plain": [
       "<Figure size 1152x216 with 3 Axes>"
      ]
     },
     "metadata": {
      "needs_background": "light"
     },
     "output_type": "display_data"
    }
   ],
   "source": [
    "fig, axes = plt.subplots(nrows=1, ncols=3, figsize=(16, 3))\n",
    "ax1 = axes[0]\n",
    "ax1.hist(np.log10(user_follower[\"user_followers\"] + 1), 45, density=True, cumulative=False, log=True)\n",
    "ax1.set_xlim(0,8)\n",
    "ax1.set_xlabel(\"Log User Followers\")\n",
    "ax1.set_ylabel(\"P.D.F.\")\n",
    "\n",
    "ax2 = axes[1]\n",
    "ax2.hist(np.log10(user_follower[\"user_followers\"] + 1), 256, density=True, cumulative=True, log=True)\n",
    "ax2.set_xlim(0,8)\n",
    "ax2.set_xlabel(\"Log User Followers\")\n",
    "ax2.set_ylabel(\"C.D.F.\")\n",
    "\n",
    "ax3 = axes[2]\n",
    "ax3.hist(np.log10(user_follower[\"user_followers\"] + 1), 256, density=True, cumulative=-1, log=True)\n",
    "ax3.set_xlim(0,8)\n",
    "ax3.set_xlabel(\"Log User Followers\")\n",
    "ax3.set_ylabel(\"C.C.D.F.\")"
   ]
  },
  {
   "cell_type": "markdown",
   "metadata": {},
   "source": [
    "<font color='red'>**Question:**</font> For the ``user_friends`` values, try to convert it to float values.\n",
    "\n",
    "Hint: the values may contain strings that are not numbers, you need to convert them to ``NAN``, then drop the missing values."
   ]
  },
  {
   "cell_type": "code",
   "execution_count": 109,
   "metadata": {
    "ExecuteTime": {
     "end_time": "2021-11-22T11:56:56.149410Z",
     "start_time": "2021-11-22T11:56:56.103391Z"
    }
   },
   "outputs": [
    {
     "data": {
      "text/html": [
       "<div>\n",
       "<style scoped>\n",
       "    .dataframe tbody tr th:only-of-type {\n",
       "        vertical-align: middle;\n",
       "    }\n",
       "\n",
       "    .dataframe tbody tr th {\n",
       "        vertical-align: top;\n",
       "    }\n",
       "\n",
       "    .dataframe thead th {\n",
       "        text-align: right;\n",
       "    }\n",
       "</style>\n",
       "<table border=\"1\" class=\"dataframe\">\n",
       "  <thead>\n",
       "    <tr style=\"text-align: right;\">\n",
       "      <th></th>\n",
       "      <th>user_name</th>\n",
       "      <th>user_created</th>\n",
       "      <th>user_followers</th>\n",
       "      <th>user_friends</th>\n",
       "    </tr>\n",
       "  </thead>\n",
       "  <tbody>\n",
       "    <tr>\n",
       "      <th>0</th>\n",
       "      <td>MyNewsNE</td>\n",
       "      <td>24-05-2020 10:18</td>\n",
       "      <td>64.0</td>\n",
       "      <td>11.0</td>\n",
       "    </tr>\n",
       "    <tr>\n",
       "      <th>1</th>\n",
       "      <td>Shubham Gupta</td>\n",
       "      <td>14-08-2020 16:42</td>\n",
       "      <td>1.0</td>\n",
       "      <td>17.0</td>\n",
       "    </tr>\n",
       "    <tr>\n",
       "      <th>2</th>\n",
       "      <td>Journal of Infectiology</td>\n",
       "      <td>14-12-2017 07:07</td>\n",
       "      <td>143.0</td>\n",
       "      <td>566.0</td>\n",
       "    </tr>\n",
       "    <tr>\n",
       "      <th>3</th>\n",
       "      <td>Zane</td>\n",
       "      <td>18-09-2019 11:01</td>\n",
       "      <td>29.0</td>\n",
       "      <td>25.0</td>\n",
       "    </tr>\n",
       "    <tr>\n",
       "      <th>4</th>\n",
       "      <td>Ann-Maree O’Connor</td>\n",
       "      <td>24-01-2013 14:53</td>\n",
       "      <td>83.0</td>\n",
       "      <td>497.0</td>\n",
       "    </tr>\n",
       "    <tr>\n",
       "      <th>5</th>\n",
       "      <td>Raunak Scherbatsky DankWorth</td>\n",
       "      <td>03-08-2020 13:39</td>\n",
       "      <td>3.0</td>\n",
       "      <td>27.0</td>\n",
       "    </tr>\n",
       "    <tr>\n",
       "      <th>6</th>\n",
       "      <td>Rajesh Tadepalli</td>\n",
       "      <td>07-05-2013 03:57</td>\n",
       "      <td>918.0</td>\n",
       "      <td>2561.0</td>\n",
       "    </tr>\n",
       "    <tr>\n",
       "      <th>7</th>\n",
       "      <td>AKisASocialisolationist wash yer damn hands</td>\n",
       "      <td>07-02-2015 07:24</td>\n",
       "      <td>2321.0</td>\n",
       "      <td>3236.0</td>\n",
       "    </tr>\n",
       "    <tr>\n",
       "      <th>8</th>\n",
       "      <td>Dr. Joseph Santoro</td>\n",
       "      <td>17-01-2009 21:10</td>\n",
       "      <td>19091.0</td>\n",
       "      <td>20986.0</td>\n",
       "    </tr>\n",
       "    <tr>\n",
       "      <th>9</th>\n",
       "      <td>VUMC OAP</td>\n",
       "      <td>16-03-2017 20:22</td>\n",
       "      <td>282.0</td>\n",
       "      <td>96.0</td>\n",
       "    </tr>\n",
       "    <tr>\n",
       "      <th>10</th>\n",
       "      <td>HrNxt.com</td>\n",
       "      <td>25-03-2011 13:46</td>\n",
       "      <td>87.0</td>\n",
       "      <td>21.0</td>\n",
       "    </tr>\n",
       "    <tr>\n",
       "      <th>11</th>\n",
       "      <td>Mohammadali Naseri</td>\n",
       "      <td>02-02-2018 17:20</td>\n",
       "      <td>4.0</td>\n",
       "      <td>88.0</td>\n",
       "    </tr>\n",
       "    <tr>\n",
       "      <th>12</th>\n",
       "      <td>LabTwin - Voice &amp; AI-powered digital lab assis...</td>\n",
       "      <td>05-11-2018 21:14</td>\n",
       "      <td>239.0</td>\n",
       "      <td>693.0</td>\n",
       "    </tr>\n",
       "    <tr>\n",
       "      <th>13</th>\n",
       "      <td>BioDrivers</td>\n",
       "      <td>30-09-2015 11:32</td>\n",
       "      <td>50.0</td>\n",
       "      <td>609.0</td>\n",
       "    </tr>\n",
       "    <tr>\n",
       "      <th>14</th>\n",
       "      <td>Live sport is back!</td>\n",
       "      <td>31-03-2009 08:14</td>\n",
       "      <td>147.0</td>\n",
       "      <td>351.0</td>\n",
       "    </tr>\n",
       "    <tr>\n",
       "      <th>15</th>\n",
       "      <td>moneycontrol</td>\n",
       "      <td>26-08-2009 07:55</td>\n",
       "      <td>904607.0</td>\n",
       "      <td>288.0</td>\n",
       "    </tr>\n",
       "    <tr>\n",
       "      <th>16</th>\n",
       "      <td>Ravi Prakash Singh</td>\n",
       "      <td>04-06-2019 01:56</td>\n",
       "      <td>12.0</td>\n",
       "      <td>161.0</td>\n",
       "    </tr>\n",
       "    <tr>\n",
       "      <th>17</th>\n",
       "      <td>Duvar English</td>\n",
       "      <td>18-10-2019 09:17</td>\n",
       "      <td>17401.0</td>\n",
       "      <td>1.0</td>\n",
       "    </tr>\n",
       "    <tr>\n",
       "      <th>18</th>\n",
       "      <td>neonatal2k20</td>\n",
       "      <td>21-12-2017 17:22</td>\n",
       "      <td>591.0</td>\n",
       "      <td>1464.0</td>\n",
       "    </tr>\n",
       "    <tr>\n",
       "      <th>19</th>\n",
       "      <td>Kumar Yuvraj</td>\n",
       "      <td>13-04-2020 05:29</td>\n",
       "      <td>19.0</td>\n",
       "      <td>28.0</td>\n",
       "    </tr>\n",
       "    <tr>\n",
       "      <th>20</th>\n",
       "      <td>Imran</td>\n",
       "      <td>14-03-2009 09:07</td>\n",
       "      <td>584.0</td>\n",
       "      <td>651.0</td>\n",
       "    </tr>\n",
       "    <tr>\n",
       "      <th>21</th>\n",
       "      <td>JPIMedia Design Hub</td>\n",
       "      <td>14-11-2014 13:38</td>\n",
       "      <td>638.0</td>\n",
       "      <td>681.0</td>\n",
       "    </tr>\n",
       "    <tr>\n",
       "      <th>22</th>\n",
       "      <td>Philip John Brown</td>\n",
       "      <td>16-11-2017 17:19</td>\n",
       "      <td>2435.0</td>\n",
       "      <td>5001.0</td>\n",
       "    </tr>\n",
       "    <tr>\n",
       "      <th>23</th>\n",
       "      <td>See Latest</td>\n",
       "      <td>18-12-2017 03:27</td>\n",
       "      <td>230.0</td>\n",
       "      <td>0.0</td>\n",
       "    </tr>\n",
       "    <tr>\n",
       "      <th>24</th>\n",
       "      <td>Oneindia News</td>\n",
       "      <td>16-12-2008 09:44</td>\n",
       "      <td>63491.0</td>\n",
       "      <td>665.0</td>\n",
       "    </tr>\n",
       "    <tr>\n",
       "      <th>25</th>\n",
       "      <td>Yash Tiwari Speaks</td>\n",
       "      <td>27-05-2020 12:40</td>\n",
       "      <td>38.0</td>\n",
       "      <td>13.0</td>\n",
       "    </tr>\n",
       "    <tr>\n",
       "      <th>26</th>\n",
       "      <td>MK Mania Social News Tv</td>\n",
       "      <td>14-07-2020 14:23</td>\n",
       "      <td>2.0</td>\n",
       "      <td>7.0</td>\n",
       "    </tr>\n",
       "    <tr>\n",
       "      <th>27</th>\n",
       "      <td>World School of Bangladesh</td>\n",
       "      <td>10-08-2020 03:43</td>\n",
       "      <td>9.0</td>\n",
       "      <td>61.0</td>\n",
       "    </tr>\n",
       "    <tr>\n",
       "      <th>28</th>\n",
       "      <td>Dorjay Namgial</td>\n",
       "      <td>27-06-2020 10:58</td>\n",
       "      <td>17.0</td>\n",
       "      <td>25.0</td>\n",
       "    </tr>\n",
       "    <tr>\n",
       "      <th>29</th>\n",
       "      <td>traceydoesrhymetime</td>\n",
       "      <td>25-02-2020 20:28</td>\n",
       "      <td>1039.0</td>\n",
       "      <td>2117.0</td>\n",
       "    </tr>\n",
       "    <tr>\n",
       "      <th>...</th>\n",
       "      <td>...</td>\n",
       "      <td>...</td>\n",
       "      <td>...</td>\n",
       "      <td>...</td>\n",
       "    </tr>\n",
       "    <tr>\n",
       "      <th>215434</th>\n",
       "      <td>FactPro</td>\n",
       "      <td>2017-11-12 20:58:17</td>\n",
       "      <td>828.0</td>\n",
       "      <td>675.0</td>\n",
       "    </tr>\n",
       "    <tr>\n",
       "      <th>215435</th>\n",
       "      <td>Hi I'm Gabe</td>\n",
       "      <td>2019-11-27 20:50:46</td>\n",
       "      <td>428.0</td>\n",
       "      <td>1191.0</td>\n",
       "    </tr>\n",
       "    <tr>\n",
       "      <th>215436</th>\n",
       "      <td>Tasha Sturm</td>\n",
       "      <td>2015-08-21 02:53:51</td>\n",
       "      <td>1479.0</td>\n",
       "      <td>1279.0</td>\n",
       "    </tr>\n",
       "    <tr>\n",
       "      <th>215437</th>\n",
       "      <td>Kristin Sommers</td>\n",
       "      <td>2011-01-27 17:41:56</td>\n",
       "      <td>341.0</td>\n",
       "      <td>349.0</td>\n",
       "    </tr>\n",
       "    <tr>\n",
       "      <th>215438</th>\n",
       "      <td>Aviation Data Corp - (ASLN.TV)</td>\n",
       "      <td>2014-06-30 02:15:31</td>\n",
       "      <td>584.0</td>\n",
       "      <td>855.0</td>\n",
       "    </tr>\n",
       "    <tr>\n",
       "      <th>215439</th>\n",
       "      <td>Steven Chen 陳持威</td>\n",
       "      <td>2018-04-06 14:42:13</td>\n",
       "      <td>11023.0</td>\n",
       "      <td>379.0</td>\n",
       "    </tr>\n",
       "    <tr>\n",
       "      <th>215440</th>\n",
       "      <td>Jerry Macdonald (fully vaxxed)</td>\n",
       "      <td>2012-01-27 04:11:34</td>\n",
       "      <td>437.0</td>\n",
       "      <td>263.0</td>\n",
       "    </tr>\n",
       "    <tr>\n",
       "      <th>215441</th>\n",
       "      <td>Erik Sandvick</td>\n",
       "      <td>2011-01-16 01:17:59</td>\n",
       "      <td>113.0</td>\n",
       "      <td>163.0</td>\n",
       "    </tr>\n",
       "    <tr>\n",
       "      <th>215442</th>\n",
       "      <td>SonofaMitch</td>\n",
       "      <td>2009-08-10 14:46:28</td>\n",
       "      <td>991.0</td>\n",
       "      <td>4143.0</td>\n",
       "    </tr>\n",
       "    <tr>\n",
       "      <th>215443</th>\n",
       "      <td>Texan Mama</td>\n",
       "      <td>2009-08-08 04:48:21</td>\n",
       "      <td>225.0</td>\n",
       "      <td>1226.0</td>\n",
       "    </tr>\n",
       "    <tr>\n",
       "      <th>215444</th>\n",
       "      <td>Perry Como Chinguss</td>\n",
       "      <td>2016-01-20 21:23:14</td>\n",
       "      <td>387.0</td>\n",
       "      <td>1279.0</td>\n",
       "    </tr>\n",
       "    <tr>\n",
       "      <th>215445</th>\n",
       "      <td>United News of India</td>\n",
       "      <td>2015-06-01 14:00:31</td>\n",
       "      <td>3995.0</td>\n",
       "      <td>0.0</td>\n",
       "    </tr>\n",
       "    <tr>\n",
       "      <th>215446</th>\n",
       "      <td>syd piper</td>\n",
       "      <td>2009-04-09 04:38:08</td>\n",
       "      <td>207.0</td>\n",
       "      <td>532.0</td>\n",
       "    </tr>\n",
       "    <tr>\n",
       "      <th>215447</th>\n",
       "      <td>#Resistance is not futile = Support voting rig...</td>\n",
       "      <td>2009-03-12 15:50:46</td>\n",
       "      <td>758.0</td>\n",
       "      <td>2060.0</td>\n",
       "    </tr>\n",
       "    <tr>\n",
       "      <th>215448</th>\n",
       "      <td>I Know 🤔</td>\n",
       "      <td>2010-03-03 05:58:31</td>\n",
       "      <td>523.0</td>\n",
       "      <td>3105.0</td>\n",
       "    </tr>\n",
       "    <tr>\n",
       "      <th>215449</th>\n",
       "      <td>Robbie ✊🏻🌹♿️💉💉</td>\n",
       "      <td>2010-06-01 06:29:30</td>\n",
       "      <td>168.0</td>\n",
       "      <td>152.0</td>\n",
       "    </tr>\n",
       "    <tr>\n",
       "      <th>215450</th>\n",
       "      <td>Antonio Giordano, MD PhD</td>\n",
       "      <td>2010-05-31 15:44:18</td>\n",
       "      <td>1416.0</td>\n",
       "      <td>892.0</td>\n",
       "    </tr>\n",
       "    <tr>\n",
       "      <th>215451</th>\n",
       "      <td>Jamie Kay</td>\n",
       "      <td>2018-02-08 20:44:58</td>\n",
       "      <td>43185.0</td>\n",
       "      <td>39002.0</td>\n",
       "    </tr>\n",
       "    <tr>\n",
       "      <th>215452</th>\n",
       "      <td>nawialgnehc</td>\n",
       "      <td>2013-03-18 02:51:15</td>\n",
       "      <td>405.0</td>\n",
       "      <td>420.0</td>\n",
       "    </tr>\n",
       "    <tr>\n",
       "      <th>215453</th>\n",
       "      <td>Larissa Andrade, MD (She/Her/Hers)</td>\n",
       "      <td>2020-08-27 02:29:50</td>\n",
       "      <td>3028.0</td>\n",
       "      <td>2268.0</td>\n",
       "    </tr>\n",
       "    <tr>\n",
       "      <th>215454</th>\n",
       "      <td>13thGenAmerican 👩🇺🇸</td>\n",
       "      <td>2013-08-31 17:59:52</td>\n",
       "      <td>605.0</td>\n",
       "      <td>6.0</td>\n",
       "    </tr>\n",
       "    <tr>\n",
       "      <th>215455</th>\n",
       "      <td>Stephen</td>\n",
       "      <td>2015-02-14 23:30:47</td>\n",
       "      <td>4174.0</td>\n",
       "      <td>4090.0</td>\n",
       "    </tr>\n",
       "    <tr>\n",
       "      <th>215456</th>\n",
       "      <td>Dr. Mira Maximos PharmD, MSc, ACPR</td>\n",
       "      <td>2019-04-24 22:05:48</td>\n",
       "      <td>1362.0</td>\n",
       "      <td>695.0</td>\n",
       "    </tr>\n",
       "    <tr>\n",
       "      <th>215457</th>\n",
       "      <td>Island Girl - Listen Up, Get Your Covid-Vaccine</td>\n",
       "      <td>2008-02-18 01:52:57</td>\n",
       "      <td>4825.0</td>\n",
       "      <td>3411.0</td>\n",
       "    </tr>\n",
       "    <tr>\n",
       "      <th>215458</th>\n",
       "      <td>Bane's the name</td>\n",
       "      <td>2018-07-03 11:31:26</td>\n",
       "      <td>319.0</td>\n",
       "      <td>225.0</td>\n",
       "    </tr>\n",
       "    <tr>\n",
       "      <th>215459</th>\n",
       "      <td>Marcela Ulate</td>\n",
       "      <td>2012-05-05 19:32:50</td>\n",
       "      <td>67.0</td>\n",
       "      <td>196.0</td>\n",
       "    </tr>\n",
       "    <tr>\n",
       "      <th>215460</th>\n",
       "      <td>Dr. Alison Obr</td>\n",
       "      <td>2009-01-26 21:43:44</td>\n",
       "      <td>806.0</td>\n",
       "      <td>2360.0</td>\n",
       "    </tr>\n",
       "    <tr>\n",
       "      <th>215461</th>\n",
       "      <td>Hillary Hoffmann</td>\n",
       "      <td>2019-05-07 19:30:49</td>\n",
       "      <td>348.0</td>\n",
       "      <td>588.0</td>\n",
       "    </tr>\n",
       "    <tr>\n",
       "      <th>215462</th>\n",
       "      <td>JudeME</td>\n",
       "      <td>2018-04-19 00:26:25</td>\n",
       "      <td>1439.0</td>\n",
       "      <td>951.0</td>\n",
       "    </tr>\n",
       "    <tr>\n",
       "      <th>215463</th>\n",
       "      <td>hobbitseeker 🦃 Get Vaccinated!</td>\n",
       "      <td>2008-03-15 01:30:45</td>\n",
       "      <td>146.0</td>\n",
       "      <td>371.0</td>\n",
       "    </tr>\n",
       "  </tbody>\n",
       "</table>\n",
       "<p>215429 rows × 4 columns</p>\n",
       "</div>"
      ],
      "text/plain": [
       "                                                user_name  \\\n",
       "0                                                MyNewsNE   \n",
       "1                                           Shubham Gupta   \n",
       "2                                 Journal of Infectiology   \n",
       "3                                                    Zane   \n",
       "4                                      Ann-Maree O’Connor   \n",
       "5                            Raunak Scherbatsky DankWorth   \n",
       "6                                        Rajesh Tadepalli   \n",
       "7             AKisASocialisolationist wash yer damn hands   \n",
       "8                                      Dr. Joseph Santoro   \n",
       "9                                                VUMC OAP   \n",
       "10                                              HrNxt.com   \n",
       "11                                     Mohammadali Naseri   \n",
       "12      LabTwin - Voice & AI-powered digital lab assis...   \n",
       "13                                             BioDrivers   \n",
       "14                                    Live sport is back!   \n",
       "15                                           moneycontrol   \n",
       "16                                     Ravi Prakash Singh   \n",
       "17                                          Duvar English   \n",
       "18                                           neonatal2k20   \n",
       "19                                           Kumar Yuvraj   \n",
       "20                                                  Imran   \n",
       "21                                    JPIMedia Design Hub   \n",
       "22                                      Philip John Brown   \n",
       "23                                             See Latest   \n",
       "24                                          Oneindia News   \n",
       "25                                     Yash Tiwari Speaks   \n",
       "26                                MK Mania Social News Tv   \n",
       "27                             World School of Bangladesh   \n",
       "28                                         Dorjay Namgial   \n",
       "29                                    traceydoesrhymetime   \n",
       "...                                                   ...   \n",
       "215434                                            FactPro   \n",
       "215435                                        Hi I'm Gabe   \n",
       "215436                                        Tasha Sturm   \n",
       "215437                                    Kristin Sommers   \n",
       "215438                     Aviation Data Corp - (ASLN.TV)   \n",
       "215439                                    Steven Chen 陳持威   \n",
       "215440                     Jerry Macdonald (fully vaxxed)   \n",
       "215441                                      Erik Sandvick   \n",
       "215442                                        SonofaMitch   \n",
       "215443                                         Texan Mama   \n",
       "215444                                Perry Como Chinguss   \n",
       "215445                               United News of India   \n",
       "215446                                          syd piper   \n",
       "215447  #Resistance is not futile = Support voting rig...   \n",
       "215448                                           I Know 🤔   \n",
       "215449                                     Robbie ✊🏻🌹♿️💉💉   \n",
       "215450                           Antonio Giordano, MD PhD   \n",
       "215451                                          Jamie Kay   \n",
       "215452                                        nawialgnehc   \n",
       "215453                 Larissa Andrade, MD (She/Her/Hers)   \n",
       "215454                                13thGenAmerican 👩🇺🇸   \n",
       "215455                                            Stephen   \n",
       "215456                 Dr. Mira Maximos PharmD, MSc, ACPR   \n",
       "215457    Island Girl - Listen Up, Get Your Covid-Vaccine   \n",
       "215458                                    Bane's the name   \n",
       "215459                                      Marcela Ulate   \n",
       "215460                                     Dr. Alison Obr   \n",
       "215461                                   Hillary Hoffmann   \n",
       "215462                                             JudeME   \n",
       "215463                     hobbitseeker 🦃 Get Vaccinated!   \n",
       "\n",
       "               user_created  user_followers  user_friends  \n",
       "0          24-05-2020 10:18            64.0          11.0  \n",
       "1          14-08-2020 16:42             1.0          17.0  \n",
       "2          14-12-2017 07:07           143.0         566.0  \n",
       "3          18-09-2019 11:01            29.0          25.0  \n",
       "4          24-01-2013 14:53            83.0         497.0  \n",
       "5          03-08-2020 13:39             3.0          27.0  \n",
       "6          07-05-2013 03:57           918.0        2561.0  \n",
       "7          07-02-2015 07:24          2321.0        3236.0  \n",
       "8          17-01-2009 21:10         19091.0       20986.0  \n",
       "9          16-03-2017 20:22           282.0          96.0  \n",
       "10         25-03-2011 13:46            87.0          21.0  \n",
       "11         02-02-2018 17:20             4.0          88.0  \n",
       "12         05-11-2018 21:14           239.0         693.0  \n",
       "13         30-09-2015 11:32            50.0         609.0  \n",
       "14         31-03-2009 08:14           147.0         351.0  \n",
       "15         26-08-2009 07:55        904607.0         288.0  \n",
       "16         04-06-2019 01:56            12.0         161.0  \n",
       "17         18-10-2019 09:17         17401.0           1.0  \n",
       "18         21-12-2017 17:22           591.0        1464.0  \n",
       "19         13-04-2020 05:29            19.0          28.0  \n",
       "20         14-03-2009 09:07           584.0         651.0  \n",
       "21         14-11-2014 13:38           638.0         681.0  \n",
       "22         16-11-2017 17:19          2435.0        5001.0  \n",
       "23         18-12-2017 03:27           230.0           0.0  \n",
       "24         16-12-2008 09:44         63491.0         665.0  \n",
       "25         27-05-2020 12:40            38.0          13.0  \n",
       "26         14-07-2020 14:23             2.0           7.0  \n",
       "27         10-08-2020 03:43             9.0          61.0  \n",
       "28         27-06-2020 10:58            17.0          25.0  \n",
       "29         25-02-2020 20:28          1039.0        2117.0  \n",
       "...                     ...             ...           ...  \n",
       "215434  2017-11-12 20:58:17           828.0         675.0  \n",
       "215435  2019-11-27 20:50:46           428.0        1191.0  \n",
       "215436  2015-08-21 02:53:51          1479.0        1279.0  \n",
       "215437  2011-01-27 17:41:56           341.0         349.0  \n",
       "215438  2014-06-30 02:15:31           584.0         855.0  \n",
       "215439  2018-04-06 14:42:13         11023.0         379.0  \n",
       "215440  2012-01-27 04:11:34           437.0         263.0  \n",
       "215441  2011-01-16 01:17:59           113.0         163.0  \n",
       "215442  2009-08-10 14:46:28           991.0        4143.0  \n",
       "215443  2009-08-08 04:48:21           225.0        1226.0  \n",
       "215444  2016-01-20 21:23:14           387.0        1279.0  \n",
       "215445  2015-06-01 14:00:31          3995.0           0.0  \n",
       "215446  2009-04-09 04:38:08           207.0         532.0  \n",
       "215447  2009-03-12 15:50:46           758.0        2060.0  \n",
       "215448  2010-03-03 05:58:31           523.0        3105.0  \n",
       "215449  2010-06-01 06:29:30           168.0         152.0  \n",
       "215450  2010-05-31 15:44:18          1416.0         892.0  \n",
       "215451  2018-02-08 20:44:58         43185.0       39002.0  \n",
       "215452  2013-03-18 02:51:15           405.0         420.0  \n",
       "215453  2020-08-27 02:29:50          3028.0        2268.0  \n",
       "215454  2013-08-31 17:59:52           605.0           6.0  \n",
       "215455  2015-02-14 23:30:47          4174.0        4090.0  \n",
       "215456  2019-04-24 22:05:48          1362.0         695.0  \n",
       "215457  2008-02-18 01:52:57          4825.0        3411.0  \n",
       "215458  2018-07-03 11:31:26           319.0         225.0  \n",
       "215459  2012-05-05 19:32:50            67.0         196.0  \n",
       "215460  2009-01-26 21:43:44           806.0        2360.0  \n",
       "215461  2019-05-07 19:30:49           348.0         588.0  \n",
       "215462  2018-04-19 00:26:25          1439.0         951.0  \n",
       "215463  2008-03-15 01:30:45           146.0         371.0  \n",
       "\n",
       "[215429 rows x 4 columns]"
      ]
     },
     "execution_count": 109,
     "metadata": {},
     "output_type": "execute_result"
    }
   ],
   "source": [
    "user_follower[\"user_friends\"] = user_follower[\"user_friends\"].apply(pd.to_numeric, errors='cuseroerce')\n",
    "user_follower = user_follower.loc[~user_follower.user_friends.isna()].copy()\n",
    "user_follower"
   ]
  },
  {
   "cell_type": "markdown",
   "metadata": {},
   "source": [
    "<font color='red'>**Question:**</font>  Make a histogram with logarithmic binning for ``user_friends``+1. "
   ]
  },
  {
   "cell_type": "code",
   "execution_count": 117,
   "metadata": {},
   "outputs": [
    {
     "data": {
      "text/plain": [
       "Text(0,0.5,'Count')"
      ]
     },
     "execution_count": 117,
     "metadata": {},
     "output_type": "execute_result"
    },
    {
     "data": {
      "image/png": "[encoded data removed]",
      "text/plain": [
       "<Figure size 432x288 with 1 Axes>"
      ]
     },
     "metadata": {
      "needs_background": "light"
     },
     "output_type": "display_data"
    }
   ],
   "source": [
    "a = np.log10(np.abs(user_follower[\"user_friends\"]) + 1).hist(bins = 40)\n",
    "a.set_xlabel(\"Log10 User Friends\")\n",
    "a.set_ylabel(\"Count\")"
   ]
  },
  {
   "cell_type": "markdown",
   "metadata": {},
   "source": [
    "# Network data"
   ]
  },
  {
   "cell_type": "markdown",
   "metadata": {},
   "source": [
    "**Data Description:**\n",
    "\n",
    "**Character Interaction Networks for the HBO Series \"Game of Thrones\"**\n",
    "\n",
    "The network data contains the nodes ``(got-s1-nodes.csv)`` and edges ``(got-s1-edges.csv)`` for the season one series.\n",
    "\n",
    "Pairs of characters are connected by (undirected) edges weighted by the number of interactions.\n",
    "\n",
    "There are five interaction types. Character A and Character B are connected whenever:\n",
    "\n",
    "1. Character A speaks directly after Character B\n",
    "1. Character A speaks about Character B\n",
    "1. Character C speaks about Character A and Character B\n",
    "1. Character A and Character B are mentioned in the same stage direction\n",
    "1. Character A and Character B appear in a scene together\n"
   ]
  },
  {
   "cell_type": "markdown",
   "metadata": {},
   "source": [
    "<font color='red'>**Question:**</font>  Create the ``Adjacency List`` for this network using the edge data: ``got-s1-edges.csv``. \n",
    "Print the adjacency list for ``Ned`` and ``Cersei``."
   ]
  },
  {
   "cell_type": "code",
   "execution_count": null,
   "metadata": {},
   "outputs": [],
   "source": [
    "# your code here\n",
    "\n",
    "\n",
    "\n",
    "\n",
    "\n",
    "print(adjacencylist[\"NED\"])\n",
    "print(adjacencylist[\"CERSEI\"])"
   ]
  },
  {
   "cell_type": "markdown",
   "metadata": {},
   "source": [
    "<font color='red'>**Question:**</font> For each character (node) $i$, calculate the number of nodes connected to it, denote as $k_i$. Then make a histgram of the distribution of $k_i$ for all nodes."
   ]
  },
  {
   "cell_type": "code",
   "execution_count": null,
   "metadata": {},
   "outputs": [],
   "source": [
    "# your code here\n",
    "\n",
    "\n",
    "\n"
   ]
  },
  {
   "cell_type": "markdown",
   "metadata": {},
   "source": [
    "# The End"
   ]
  }
 ],
 "metadata": {
  "kernelspec": {
   "display_name": "Python 3",
   "language": "python",
   "name": "python3"
  },
  "language_info": {
   "codemirror_mode": {
    "name": "ipython",
    "version": 3
   },
   "file_extension": ".py",
   "mimetype": "text/x-python",
   "name": "python",
   "nbconvert_exporter": "python",
   "pygments_lexer": "ipython3",
   "version": "3.7.0"
  },
  "toc": {
   "base_numbering": 1,
   "nav_menu": {},
   "number_sections": true,
   "sideBar": true,
   "skip_h1_title": false,
   "title_cell": "Table of Contents",
   "title_sidebar": "Contents",
   "toc_cell": false,
   "toc_position": {},
   "toc_section_display": true,
   "toc_window_display": false
  }
 },
 "nbformat": 4,
 "nbformat_minor": 5
}
