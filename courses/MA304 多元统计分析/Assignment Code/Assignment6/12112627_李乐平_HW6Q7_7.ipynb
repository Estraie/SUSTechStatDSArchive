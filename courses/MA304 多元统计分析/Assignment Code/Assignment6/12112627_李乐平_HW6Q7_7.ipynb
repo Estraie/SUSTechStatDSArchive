{
 "cells": [
  {
   "cell_type": "markdown",
   "id": "4739ca97",
   "metadata": {},
   "source": [
    "## Multivariate Statistical Analysis\n",
    "\n",
    "### Assignment 6 \n",
    "\n",
    "**12112627 李乐平**\n",
    "\n"
   ]
  },
  {
   "cell_type": "markdown",
   "id": "5cf12a4f",
   "metadata": {},
   "source": [
    "### Question 7.4"
   ]
  },
  {
   "cell_type": "code",
   "execution_count": 19,
   "id": "4f80c719",
   "metadata": {},
   "outputs": [],
   "source": [
    "import numpy as np\n",
    "import pandas as pd\n",
    "import matplotlib.pyplot as plt"
   ]
  },
  {
   "cell_type": "code",
   "execution_count": 2,
   "id": "e4bf1160",
   "metadata": {},
   "outputs": [
    {
     "name": "stderr",
     "output_type": "stream",
     "text": [
      "C:\\Users\\Wandering Troubadour\\AppData\\Local\\Programs\\Python\\Python310\\lib\\site-packages\\openpyxl\\worksheet\\header_footer.py:48: UserWarning: Cannot parse header or footer so it will be ignored\n",
      "  warn(\"\"\"Cannot parse header or footer so it will be ignored\"\"\")\n"
     ]
    },
    {
     "data": {
      "text/html": [
       "<div>\n",
       "<style scoped>\n",
       "    .dataframe tbody tr th:only-of-type {\n",
       "        vertical-align: middle;\n",
       "    }\n",
       "\n",
       "    .dataframe tbody tr th {\n",
       "        vertical-align: top;\n",
       "    }\n",
       "\n",
       "    .dataframe thead th {\n",
       "        text-align: right;\n",
       "    }\n",
       "</style>\n",
       "<table border=\"1\" class=\"dataframe\">\n",
       "  <thead>\n",
       "    <tr style=\"text-align: right;\">\n",
       "      <th></th>\n",
       "      <th>周</th>\n",
       "      <th>阿莱德化学</th>\n",
       "      <th>杜邦</th>\n",
       "      <th>联合碳化物</th>\n",
       "      <th>埃克森</th>\n",
       "      <th>德士古</th>\n",
       "    </tr>\n",
       "  </thead>\n",
       "  <tbody>\n",
       "    <tr>\n",
       "      <th>0</th>\n",
       "      <td>1</td>\n",
       "      <td>0.000000</td>\n",
       "      <td>0.000000</td>\n",
       "      <td>0.000000</td>\n",
       "      <td>0.039473</td>\n",
       "      <td>0.000000</td>\n",
       "    </tr>\n",
       "    <tr>\n",
       "      <th>1</th>\n",
       "      <td>2</td>\n",
       "      <td>0.027027</td>\n",
       "      <td>-0.044855</td>\n",
       "      <td>-0.003030</td>\n",
       "      <td>-0.014466</td>\n",
       "      <td>0.043478</td>\n",
       "    </tr>\n",
       "    <tr>\n",
       "      <th>2</th>\n",
       "      <td>3</td>\n",
       "      <td>0.122807</td>\n",
       "      <td>0.060773</td>\n",
       "      <td>0.088146</td>\n",
       "      <td>0.086238</td>\n",
       "      <td>0.078124</td>\n",
       "    </tr>\n",
       "    <tr>\n",
       "      <th>3</th>\n",
       "      <td>4</td>\n",
       "      <td>0.057031</td>\n",
       "      <td>0.029948</td>\n",
       "      <td>0.066808</td>\n",
       "      <td>0.013513</td>\n",
       "      <td>0.019512</td>\n",
       "    </tr>\n",
       "    <tr>\n",
       "      <th>4</th>\n",
       "      <td>5</td>\n",
       "      <td>0.063670</td>\n",
       "      <td>-0.003793</td>\n",
       "      <td>-0.039788</td>\n",
       "      <td>-0.018644</td>\n",
       "      <td>-0.024154</td>\n",
       "    </tr>\n",
       "    <tr>\n",
       "      <th>...</th>\n",
       "      <td>...</td>\n",
       "      <td>...</td>\n",
       "      <td>...</td>\n",
       "      <td>...</td>\n",
       "      <td>...</td>\n",
       "      <td>...</td>\n",
       "    </tr>\n",
       "    <tr>\n",
       "      <th>95</th>\n",
       "      <td>96</td>\n",
       "      <td>0.000000</td>\n",
       "      <td>-0.020080</td>\n",
       "      <td>-0.006579</td>\n",
       "      <td>0.029925</td>\n",
       "      <td>-0.004807</td>\n",
       "    </tr>\n",
       "    <tr>\n",
       "      <th>96</th>\n",
       "      <td>97</td>\n",
       "      <td>0.021429</td>\n",
       "      <td>0.049180</td>\n",
       "      <td>0.006622</td>\n",
       "      <td>-0.002421</td>\n",
       "      <td>0.028985</td>\n",
       "    </tr>\n",
       "    <tr>\n",
       "      <th>97</th>\n",
       "      <td>98</td>\n",
       "      <td>0.045454</td>\n",
       "      <td>0.046375</td>\n",
       "      <td>0.074561</td>\n",
       "      <td>0.014563</td>\n",
       "      <td>0.018779</td>\n",
       "    </tr>\n",
       "    <tr>\n",
       "      <th>98</th>\n",
       "      <td>99</td>\n",
       "      <td>0.050167</td>\n",
       "      <td>0.036380</td>\n",
       "      <td>0.004082</td>\n",
       "      <td>-0.011961</td>\n",
       "      <td>0.009216</td>\n",
       "    </tr>\n",
       "    <tr>\n",
       "      <th>99</th>\n",
       "      <td>100</td>\n",
       "      <td>0.019108</td>\n",
       "      <td>-0.033303</td>\n",
       "      <td>0.008362</td>\n",
       "      <td>0.033898</td>\n",
       "      <td>0.004566</td>\n",
       "    </tr>\n",
       "  </tbody>\n",
       "</table>\n",
       "<p>100 rows × 6 columns</p>\n",
       "</div>"
      ],
      "text/plain": [
       "      周     阿莱德化学        杜邦     联合碳化物       埃克森       德士古\n",
       "0     1  0.000000  0.000000  0.000000  0.039473  0.000000\n",
       "1     2  0.027027 -0.044855 -0.003030 -0.014466  0.043478\n",
       "2     3  0.122807  0.060773  0.088146  0.086238  0.078124\n",
       "3     4  0.057031  0.029948  0.066808  0.013513  0.019512\n",
       "4     5  0.063670 -0.003793 -0.039788 -0.018644 -0.024154\n",
       "..  ...       ...       ...       ...       ...       ...\n",
       "95   96  0.000000 -0.020080 -0.006579  0.029925 -0.004807\n",
       "96   97  0.021429  0.049180  0.006622 -0.002421  0.028985\n",
       "97   98  0.045454  0.046375  0.074561  0.014563  0.018779\n",
       "98   99  0.050167  0.036380  0.004082 -0.011961  0.009216\n",
       "99  100  0.019108 -0.033303  0.008362  0.033898  0.004566\n",
       "\n",
       "[100 rows x 6 columns]"
      ]
     },
     "execution_count": 2,
     "metadata": {},
     "output_type": "execute_result"
    }
   ],
   "source": [
    "df = pd.read_excel(\"exec7.7data.xlsx\")\n",
    "df"
   ]
  },
  {
   "cell_type": "code",
   "execution_count": 8,
   "id": "ced3da39",
   "metadata": {},
   "outputs": [
    {
     "data": {
      "text/html": [
       "<div>\n",
       "<style scoped>\n",
       "    .dataframe tbody tr th:only-of-type {\n",
       "        vertical-align: middle;\n",
       "    }\n",
       "\n",
       "    .dataframe tbody tr th {\n",
       "        vertical-align: top;\n",
       "    }\n",
       "\n",
       "    .dataframe thead th {\n",
       "        text-align: right;\n",
       "    }\n",
       "</style>\n",
       "<table border=\"1\" class=\"dataframe\">\n",
       "  <thead>\n",
       "    <tr style=\"text-align: right;\">\n",
       "      <th></th>\n",
       "      <th>阿莱德化学</th>\n",
       "      <th>杜邦</th>\n",
       "      <th>联合碳化物</th>\n",
       "      <th>埃克森</th>\n",
       "      <th>德士古</th>\n",
       "    </tr>\n",
       "  </thead>\n",
       "  <tbody>\n",
       "    <tr>\n",
       "      <th>阿莱德化学</th>\n",
       "      <td>1.000000</td>\n",
       "      <td>0.576924</td>\n",
       "      <td>0.508656</td>\n",
       "      <td>0.386721</td>\n",
       "      <td>0.462178</td>\n",
       "    </tr>\n",
       "    <tr>\n",
       "      <th>杜邦</th>\n",
       "      <td>0.576924</td>\n",
       "      <td>1.000000</td>\n",
       "      <td>0.598384</td>\n",
       "      <td>0.389519</td>\n",
       "      <td>0.321953</td>\n",
       "    </tr>\n",
       "    <tr>\n",
       "      <th>联合碳化物</th>\n",
       "      <td>0.508656</td>\n",
       "      <td>0.598384</td>\n",
       "      <td>1.000000</td>\n",
       "      <td>0.436101</td>\n",
       "      <td>0.425627</td>\n",
       "    </tr>\n",
       "    <tr>\n",
       "      <th>埃克森</th>\n",
       "      <td>0.386721</td>\n",
       "      <td>0.389519</td>\n",
       "      <td>0.436101</td>\n",
       "      <td>1.000000</td>\n",
       "      <td>0.523529</td>\n",
       "    </tr>\n",
       "    <tr>\n",
       "      <th>德士古</th>\n",
       "      <td>0.462178</td>\n",
       "      <td>0.321953</td>\n",
       "      <td>0.425627</td>\n",
       "      <td>0.523529</td>\n",
       "      <td>1.000000</td>\n",
       "    </tr>\n",
       "  </tbody>\n",
       "</table>\n",
       "</div>"
      ],
      "text/plain": [
       "          阿莱德化学        杜邦     联合碳化物       埃克森       德士古\n",
       "阿莱德化学  1.000000  0.576924  0.508656  0.386721  0.462178\n",
       "杜邦     0.576924  1.000000  0.598384  0.389519  0.321953\n",
       "联合碳化物  0.508656  0.598384  1.000000  0.436101  0.425627\n",
       "埃克森    0.386721  0.389519  0.436101  1.000000  0.523529\n",
       "德士古    0.462178  0.321953  0.425627  0.523529  1.000000"
      ]
     },
     "execution_count": 8,
     "metadata": {},
     "output_type": "execute_result"
    }
   ],
   "source": [
    "corr = df.iloc[:, 1:].corr()\n",
    "corr"
   ]
  },
  {
   "cell_type": "code",
   "execution_count": 16,
   "id": "6370442f",
   "metadata": {},
   "outputs": [
    {
     "data": {
      "text/plain": [
       "(array([[ 0.46354054,  0.24084986,  0.61335698, -0.38137266,  0.45328757],\n",
       "        [ 0.45707636,  0.5090997 , -0.17789962, -0.21130679, -0.67498139],\n",
       "        [ 0.46998043,  0.26057743, -0.33703554,  0.66409849,  0.39572471],\n",
       "        [ 0.42167703, -0.52526472, -0.53901809, -0.47280364,  0.17944825],\n",
       "        [ 0.42132914, -0.58224156,  0.4336029 ,  0.3812273 , -0.38746715]]),\n",
       " array([2.85648688, 0.8091185 , 0.54004398, 0.45134682, 0.34300382]))"
      ]
     },
     "execution_count": 16,
     "metadata": {},
     "output_type": "execute_result"
    }
   ],
   "source": [
    "eig_val, eig_vec = np.linalg.eig(corr)\n",
    "sorted_indices = np.argsort(eig_val)[::-1]\n",
    "eig_val = eig_val[sorted_indices]\n",
    "eig_vec = eig_vec[:, sorted_indices]\n",
    "eig_vec, eig_val"
   ]
  },
  {
   "cell_type": "code",
   "execution_count": 27,
   "id": "fe5cbac9",
   "metadata": {},
   "outputs": [
    {
     "name": "stdout",
     "output_type": "stream",
     "text": [
      "λ1 =  2.856, y1 =  0.464x1 +  0.457x2 +  0.470x3 +  0.422x4 +  0.421x5\n",
      "λ2 =  0.809, y2 =  0.241x1 +  0.509x2 +  0.261x3 + -0.525x4 + -0.582x5\n",
      "λ3 =  0.540, y3 =  0.613x1 + -0.178x2 + -0.337x3 + -0.539x4 +  0.434x5\n",
      "λ4 =  0.451, y4 = -0.381x1 + -0.211x2 +  0.664x3 + -0.473x4 +  0.381x5\n",
      "λ5 =  0.343, y5 =  0.453x1 + -0.675x2 +  0.396x3 +  0.179x4 + -0.387x5\n"
     ]
    }
   ],
   "source": [
    "for i in range(5):\n",
    "    print(f\"\"\"λ{i + 1} = {eig_val[i]: .3f}, y{i + 1} = {\n",
    "        ' + '.join([f\"{eig_vec[k, i]: .3f}x{k + 1}\" for k in range(5)])\n",
    "    }\"\"\")"
   ]
  },
  {
   "cell_type": "code",
   "execution_count": 23,
   "id": "519e4a54",
   "metadata": {},
   "outputs": [],
   "source": [
    "con = [eig / sum(eig_val) for eig in eig_val]\n",
    "acc = con.copy()\n",
    "for i in range(1, 5):\n",
    "    acc[i] += acc[i - 1]"
   ]
  },
  {
   "cell_type": "code",
   "execution_count": 28,
   "id": "c1cdb156",
   "metadata": {},
   "outputs": [
    {
     "data": {
      "image/png": "[encoded data removed]",
      "text/plain": [
       "<Figure size 1024x768 with 1 Axes>"
      ]
     },
     "metadata": {},
     "output_type": "display_data"
    }
   ],
   "source": [
    "x_values = [1, 2, 3, 4, 5]\n",
    "plt.figure(dpi = 160)\n",
    "plt.plot(x_values, con, label = \"Contribution Rate\")\n",
    "plt.plot(x_values, acc, label = \"Accumulated Contribution Rate\")\n",
    "\n",
    "plt.title(\"Explained Variations\")\n",
    "plt.xlabel(\"Principal Component\")\n",
    "plt.ylabel('Proportion')\n",
    "plt.xticks(x_values)\n",
    "plt.legend()\n",
    "plt.grid()\n",
    "\n",
    "plt.show()"
   ]
  }
 ],
 "metadata": {
  "kernelspec": {
   "display_name": "Python 3 (ipykernel)",
   "language": "python",
   "name": "python3"
  },
  "language_info": {
   "codemirror_mode": {
    "name": "ipython",
    "version": 3
   },
   "file_extension": ".py",
   "mimetype": "text/x-python",
   "name": "python",
   "nbconvert_exporter": "python",
   "pygments_lexer": "ipython3",
   "version": "3.10.3"
  }
 },
 "nbformat": 4,
 "nbformat_minor": 5
}
