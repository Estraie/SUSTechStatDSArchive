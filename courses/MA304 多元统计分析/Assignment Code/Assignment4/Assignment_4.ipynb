{
 "cells": [
  {
   "cell_type": "markdown",
   "id": "88b8b028",
   "metadata": {},
   "source": [
    "# Multivariate Statistical Analysis\n",
    "## Answer to Assignment 4\n",
    "## 12112627 李乐平"
   ]
  },
  {
   "cell_type": "markdown",
   "id": "1ec1dc29",
   "metadata": {},
   "source": [
    "## Question 1\n",
    "\n",
    "There is a certain relationship between the amount of sweating and the content of potassium in human body. The amount of perspiration ($x_1$) of 20 healthy adult women was measured. The content of sodium ($x_2$) and potassium content ($x_3$) were also measured. The data are listed in the following table. It is assumed that the data  obeys a trivariate normal distribution."
   ]
  },
  {
   "cell_type": "markdown",
   "id": "a0603c34",
   "metadata": {},
   "source": [
    "**(1)**\n",
    "Construct a Hotelling $T^2$ statistic to test the hypothesis $H_0: \\mu = \\mu_0 = [4\\ 50\\ 10]'$ against $H_1: \\mu ≠ \\mu_0  (\\alpha = 0.05)$."
   ]
  },
  {
   "cell_type": "code",
   "execution_count": 1,
   "id": "322342b0",
   "metadata": {},
   "outputs": [],
   "source": [
    "import numpy as np\n",
    "import pandas as pd\n",
    "\n",
    "from scipy.stats import f, t"
   ]
  },
  {
   "cell_type": "code",
   "execution_count": 2,
   "id": "2f62e0be",
   "metadata": {
    "scrolled": false
   },
   "outputs": [
    {
     "data": {
      "text/html": [
       "<div>\n",
       "<style scoped>\n",
       "    .dataframe tbody tr th:only-of-type {\n",
       "        vertical-align: middle;\n",
       "    }\n",
       "\n",
       "    .dataframe tbody tr th {\n",
       "        vertical-align: top;\n",
       "    }\n",
       "\n",
       "    .dataframe thead th {\n",
       "        text-align: right;\n",
       "    }\n",
       "</style>\n",
       "<table border=\"1\" class=\"dataframe\">\n",
       "  <thead>\n",
       "    <tr style=\"text-align: right;\">\n",
       "      <th></th>\n",
       "      <th>x1</th>\n",
       "      <th>x2</th>\n",
       "      <th>x3</th>\n",
       "    </tr>\n",
       "  </thead>\n",
       "  <tbody>\n",
       "    <tr>\n",
       "      <th>0</th>\n",
       "      <td>3.7</td>\n",
       "      <td>48.5</td>\n",
       "      <td>9.3</td>\n",
       "    </tr>\n",
       "    <tr>\n",
       "      <th>1</th>\n",
       "      <td>5.7</td>\n",
       "      <td>65.1</td>\n",
       "      <td>8.0</td>\n",
       "    </tr>\n",
       "    <tr>\n",
       "      <th>2</th>\n",
       "      <td>3.8</td>\n",
       "      <td>47.2</td>\n",
       "      <td>10.9</td>\n",
       "    </tr>\n",
       "    <tr>\n",
       "      <th>3</th>\n",
       "      <td>3.2</td>\n",
       "      <td>53.2</td>\n",
       "      <td>12.0</td>\n",
       "    </tr>\n",
       "    <tr>\n",
       "      <th>4</th>\n",
       "      <td>3.1</td>\n",
       "      <td>55.5</td>\n",
       "      <td>9.7</td>\n",
       "    </tr>\n",
       "    <tr>\n",
       "      <th>5</th>\n",
       "      <td>4.6</td>\n",
       "      <td>36.1</td>\n",
       "      <td>7.9</td>\n",
       "    </tr>\n",
       "    <tr>\n",
       "      <th>6</th>\n",
       "      <td>2.4</td>\n",
       "      <td>24.8</td>\n",
       "      <td>14.0</td>\n",
       "    </tr>\n",
       "    <tr>\n",
       "      <th>7</th>\n",
       "      <td>7.2</td>\n",
       "      <td>33.1</td>\n",
       "      <td>7.6</td>\n",
       "    </tr>\n",
       "    <tr>\n",
       "      <th>8</th>\n",
       "      <td>6.7</td>\n",
       "      <td>47.4</td>\n",
       "      <td>8.5</td>\n",
       "    </tr>\n",
       "    <tr>\n",
       "      <th>9</th>\n",
       "      <td>5.4</td>\n",
       "      <td>54.1</td>\n",
       "      <td>11.3</td>\n",
       "    </tr>\n",
       "    <tr>\n",
       "      <th>10</th>\n",
       "      <td>3.9</td>\n",
       "      <td>36.9</td>\n",
       "      <td>12.7</td>\n",
       "    </tr>\n",
       "    <tr>\n",
       "      <th>11</th>\n",
       "      <td>4.5</td>\n",
       "      <td>58.8</td>\n",
       "      <td>12.3</td>\n",
       "    </tr>\n",
       "    <tr>\n",
       "      <th>12</th>\n",
       "      <td>3.5</td>\n",
       "      <td>27.8</td>\n",
       "      <td>9.8</td>\n",
       "    </tr>\n",
       "    <tr>\n",
       "      <th>13</th>\n",
       "      <td>4.5</td>\n",
       "      <td>40.2</td>\n",
       "      <td>8.4</td>\n",
       "    </tr>\n",
       "    <tr>\n",
       "      <th>14</th>\n",
       "      <td>1.5</td>\n",
       "      <td>13.5</td>\n",
       "      <td>10.1</td>\n",
       "    </tr>\n",
       "    <tr>\n",
       "      <th>15</th>\n",
       "      <td>8.5</td>\n",
       "      <td>56.4</td>\n",
       "      <td>7.1</td>\n",
       "    </tr>\n",
       "    <tr>\n",
       "      <th>16</th>\n",
       "      <td>4.5</td>\n",
       "      <td>71.6</td>\n",
       "      <td>8.2</td>\n",
       "    </tr>\n",
       "    <tr>\n",
       "      <th>17</th>\n",
       "      <td>6.5</td>\n",
       "      <td>52.8</td>\n",
       "      <td>10.9</td>\n",
       "    </tr>\n",
       "    <tr>\n",
       "      <th>18</th>\n",
       "      <td>4.1</td>\n",
       "      <td>44.1</td>\n",
       "      <td>11.2</td>\n",
       "    </tr>\n",
       "    <tr>\n",
       "      <th>19</th>\n",
       "      <td>5.5</td>\n",
       "      <td>40.9</td>\n",
       "      <td>9.4</td>\n",
       "    </tr>\n",
       "  </tbody>\n",
       "</table>\n",
       "</div>"
      ],
      "text/plain": [
       "     x1    x2    x3\n",
       "0   3.7  48.5   9.3\n",
       "1   5.7  65.1   8.0\n",
       "2   3.8  47.2  10.9\n",
       "3   3.2  53.2  12.0\n",
       "4   3.1  55.5   9.7\n",
       "5   4.6  36.1   7.9\n",
       "6   2.4  24.8  14.0\n",
       "7   7.2  33.1   7.6\n",
       "8   6.7  47.4   8.5\n",
       "9   5.4  54.1  11.3\n",
       "10  3.9  36.9  12.7\n",
       "11  4.5  58.8  12.3\n",
       "12  3.5  27.8   9.8\n",
       "13  4.5  40.2   8.4\n",
       "14  1.5  13.5  10.1\n",
       "15  8.5  56.4   7.1\n",
       "16  4.5  71.6   8.2\n",
       "17  6.5  52.8  10.9\n",
       "18  4.1  44.1  11.2\n",
       "19  5.5  40.9   9.4"
      ]
     },
     "execution_count": 2,
     "metadata": {},
     "output_type": "execute_result"
    }
   ],
   "source": [
    "df = pd.read_csv(\"4_1.csv\")\n",
    "df"
   ]
  },
  {
   "cell_type": "code",
   "execution_count": 4,
   "id": "6881b9a2",
   "metadata": {},
   "outputs": [
    {
     "name": "stdout",
     "output_type": "stream",
     "text": [
      "Hotelling's T2 =  9.7388\n",
      "T2(α/2, p, n - 1) =  10.7186\n"
     ]
    }
   ],
   "source": [
    "n = len(df)\n",
    "p = len(df.columns)\n",
    "data = np.array(df)\n",
    "means = np.array(df.mean()).reshape(-1, 1)\n",
    "cov = np.array(df.cov())\n",
    "\n",
    "u0 = np.array([4, 50, 10]).reshape(-1, 1)\n",
    "alpha = 0.05\n",
    "\n",
    "F = f.ppf(1 - alpha, p, n - p)\n",
    "T2_alpha = p * (n - 1) * F / (n - p)\n",
    "\n",
    "T2 = n * (means - u0).T @ np.linalg.inv(cov) @ (means - u0)\n",
    "\n",
    "print(f\"Hotelling's T2 = {T2[0][0] : .4f}\")\n",
    "print(f\"T2(α/2, p, n - 1) = {T2_alpha: .4f}\")"
   ]
  },
  {
   "cell_type": "markdown",
   "id": "691ee1be",
   "metadata": {},
   "source": [
    "**Solution:**\n",
    "Because Hotelling's $T^2 = 9.7388 < T^2_\\alpha(3, 19) = 10.7186$, hence we cannot reject $H_0$."
   ]
  },
  {
   "cell_type": "markdown",
   "id": "ba72bd57",
   "metadata": {},
   "source": [
    "**(2)**\n",
    "Find the $95\\%$ confidence region for $\\mu$."
   ]
  },
  {
   "cell_type": "code",
   "execution_count": 6,
   "id": "1168d733",
   "metadata": {},
   "outputs": [
    {
     "data": {
      "text/plain": [
       "array([[ 0.58615531, -0.02208572,  0.25796874],\n",
       "       [-0.02208572,  0.00606723, -0.00158093],\n",
       "       [ 0.25796874, -0.00158093,  0.40184677]])"
      ]
     },
     "execution_count": 6,
     "metadata": {},
     "output_type": "execute_result"
    }
   ],
   "source": [
    "np.linalg.inv(cov)"
   ]
  },
  {
   "cell_type": "markdown",
   "id": "aaad6960",
   "metadata": {},
   "source": [
    "**Solution:**\n",
    "The confidence region with significance level $1-\\alpha=95\\%$ is given by\n",
    "$$\n",
    "\\{\\mu: 20 × (\\ \\begin{bmatrix} 4.64 \\\\45.4 \\\\9.965\\end{bmatrix} - \\mu)' \\begin {bmatrix} 0.58615531 & -0.02208572 & 0.25796874 \\\\-0.02208572 & 0.00606723 & -0.00158093 \\\\0.25796874 & -0.00158093 & 0.40184677 \\\\ \\end {bmatrix} (\\ \\begin{bmatrix} 4.64 \\\\45.4 \\\\9.965\\end{bmatrix} - \\mu ) ≤ 10.7186\\}\n",
    "$$"
   ]
  },
  {
   "cell_type": "markdown",
   "id": "61d0087e",
   "metadata": {},
   "source": [
    "## Question 2\n",
    "\n",
    "Using the data in the table, test the following hypotheses of the female baby population at the significance level of $\\alpha = 0.05$."
   ]
  },
  {
   "cell_type": "markdown",
   "id": "83d74f07",
   "metadata": {},
   "source": [
    "**(1)**\n",
    "$H_0: \\mu = [80\\ 60\\ 15]'$ against $H_1: \\mu ≠ [80\\ 60\\ 15]'$."
   ]
  },
  {
   "cell_type": "code",
   "execution_count": 5,
   "id": "18bd4071",
   "metadata": {
    "scrolled": true
   },
   "outputs": [
    {
     "data": {
      "text/html": [
       "<div>\n",
       "<style scoped>\n",
       "    .dataframe tbody tr th:only-of-type {\n",
       "        vertical-align: middle;\n",
       "    }\n",
       "\n",
       "    .dataframe tbody tr th {\n",
       "        vertical-align: top;\n",
       "    }\n",
       "\n",
       "    .dataframe thead th {\n",
       "        text-align: right;\n",
       "    }\n",
       "</style>\n",
       "<table border=\"1\" class=\"dataframe\">\n",
       "  <thead>\n",
       "    <tr style=\"text-align: right;\">\n",
       "      <th></th>\n",
       "      <th>x1</th>\n",
       "      <th>x2</th>\n",
       "      <th>x3</th>\n",
       "    </tr>\n",
       "  </thead>\n",
       "  <tbody>\n",
       "    <tr>\n",
       "      <th>0</th>\n",
       "      <td>80</td>\n",
       "      <td>58.4</td>\n",
       "      <td>14.0</td>\n",
       "    </tr>\n",
       "    <tr>\n",
       "      <th>1</th>\n",
       "      <td>75</td>\n",
       "      <td>59.2</td>\n",
       "      <td>15.0</td>\n",
       "    </tr>\n",
       "    <tr>\n",
       "      <th>2</th>\n",
       "      <td>78</td>\n",
       "      <td>60.3</td>\n",
       "      <td>15.0</td>\n",
       "    </tr>\n",
       "    <tr>\n",
       "      <th>3</th>\n",
       "      <td>75</td>\n",
       "      <td>57.4</td>\n",
       "      <td>13.0</td>\n",
       "    </tr>\n",
       "    <tr>\n",
       "      <th>4</th>\n",
       "      <td>79</td>\n",
       "      <td>59.5</td>\n",
       "      <td>14.0</td>\n",
       "    </tr>\n",
       "    <tr>\n",
       "      <th>5</th>\n",
       "      <td>78</td>\n",
       "      <td>58.1</td>\n",
       "      <td>14.5</td>\n",
       "    </tr>\n",
       "    <tr>\n",
       "      <th>6</th>\n",
       "      <td>75</td>\n",
       "      <td>58.0</td>\n",
       "      <td>12.5</td>\n",
       "    </tr>\n",
       "    <tr>\n",
       "      <th>7</th>\n",
       "      <td>64</td>\n",
       "      <td>55.5</td>\n",
       "      <td>11.0</td>\n",
       "    </tr>\n",
       "    <tr>\n",
       "      <th>8</th>\n",
       "      <td>80</td>\n",
       "      <td>59.2</td>\n",
       "      <td>12.5</td>\n",
       "    </tr>\n",
       "  </tbody>\n",
       "</table>\n",
       "</div>"
      ],
      "text/plain": [
       "   x1    x2    x3\n",
       "0  80  58.4  14.0\n",
       "1  75  59.2  15.0\n",
       "2  78  60.3  15.0\n",
       "3  75  57.4  13.0\n",
       "4  79  59.5  14.0\n",
       "5  78  58.1  14.5\n",
       "6  75  58.0  12.5\n",
       "7  64  55.5  11.0\n",
       "8  80  59.2  12.5"
      ]
     },
     "execution_count": 5,
     "metadata": {},
     "output_type": "execute_result"
    }
   ],
   "source": [
    "df = pd.read_csv(\"4_3.csv\")\n",
    "df"
   ]
  },
  {
   "cell_type": "code",
   "execution_count": 6,
   "id": "967f6fe1",
   "metadata": {},
   "outputs": [
    {
     "name": "stdout",
     "output_type": "stream",
     "text": [
      "Hotelling's T2 =  13.3700\n",
      "T2(α/2, p, n - 1) =  19.0283\n"
     ]
    }
   ],
   "source": [
    "n = len(df)\n",
    "p = len(df.columns)\n",
    "data = np.array(df)\n",
    "means = np.array(df.mean()).reshape(-1, 1)\n",
    "cov = np.array(df.cov())\n",
    "\n",
    "u0 = np.array([80, 60, 15]).reshape(-1, 1)\n",
    "alpha = 0.05\n",
    "\n",
    "F = f.ppf(1 - alpha, p, n - p)\n",
    "T2_alpha = p * (n - 1) * F / (n - p)\n",
    "\n",
    "T2 = n * (means - u0).T @ np.linalg.inv(cov) @ (means - u0)\n",
    "\n",
    "print(f\"Hotelling's T2 = {T2[0][0]: .4f}\")\n",
    "print(f\"T2(α/2, p, n - 1) = {T2_alpha: .4f}\")"
   ]
  },
  {
   "cell_type": "markdown",
   "id": "a0d6477f",
   "metadata": {},
   "source": [
    "Since $T^2 = 13.3700 < T^2(\\alpha / 2, p, n - 1) = 19.0283$, we cannot reject $H_0$."
   ]
  },
  {
   "cell_type": "markdown",
   "id": "81366660",
   "metadata": {},
   "source": [
    "**(2)**\n",
    "$H_0: \\frac{1}{5}\\mu_1 = \\frac{1}{4}\\mu_2 = \\mu_3$ against $H_1:$ At least 2 terms in $\\frac{1}{5}\\mu_1,\\ \\frac{1}{4}\\mu_2,\\ \\mu_3$ are unequal."
   ]
  },
  {
   "cell_type": "markdown",
   "id": "8292ae83",
   "metadata": {},
   "source": [
    "**Solution:**\n",
    "Let $a = \\begin{bmatrix}\n",
    "0.2 & 0.2 \\\\\n",
    "-0.25 & 0 \\\\\n",
    "0 & -1 \\\\\n",
    "\\end{bmatrix}$, then our test turns out to be $H_0: a'\\mu = \\begin{bmatrix}0 \\\\ 0 \\end{bmatrix}$ against $H_1: a'\\mu ≠ \\begin{bmatrix}0 \\\\ 0 \\end{bmatrix}$."
   ]
  },
  {
   "cell_type": "code",
   "execution_count": 7,
   "id": "09e8e5d5",
   "metadata": {},
   "outputs": [
    {
     "name": "stdout",
     "output_type": "stream",
     "text": [
      "\n",
      "T(0.05, 8) = 4.362138311924285\n",
      "t(0.0125, 8) = 2.751523593712948\n",
      "\n"
     ]
    }
   ],
   "source": [
    "a = np.array([\n",
    "    [0.2, -0.25, 0],\n",
    "    [0.2, 0, -1]\n",
    "]).T\n",
    "a_means = a.T @ means\n",
    "a_cov = a.T @ cov @ a\n",
    "a_u = np.array([0, 0, 0]).reshape(-1, 1)\n",
    "\n",
    "k = len(a.T)\n",
    "F = f.ppf(1 - alpha, p, n - p)\n",
    "T2_alpha = p * (n - 1) * F / (n - p)\n",
    "T_alpha = np.sqrt(T2_alpha)\n",
    "t_alpha = t.ppf(1 - alpha / 2 / k, n - 1)\n",
    "\n",
    "print(f\"\"\"\n",
    "T({alpha}, {n - 1}) = {T_alpha}\n",
    "t({alpha / 2 / k}, {n - 1}) = {t_alpha}\n",
    "\"\"\")"
   ]
  },
  {
   "cell_type": "markdown",
   "id": "bd855eeb",
   "metadata": {},
   "source": [
    "Because $t_{\\alpha / 2k}(n - 1) = 2.7515 < T_\\alpha(p, n - 1) = 4.3621$, so we should consider to use Bonferroni simultaneous confidence interval."
   ]
  },
  {
   "cell_type": "code",
   "execution_count": 8,
   "id": "bf8c9954",
   "metadata": {},
   "outputs": [
    {
     "name": "stdout",
     "output_type": "stream",
     "text": [
      "\n",
      "The Bonferroni simultaneous confidence interval is given by\n",
      "    [-0.07359273266943156, 1.2735927326694303]×[0.7523762685529175, 2.6476237314470845]\n",
      "\n"
     ]
    }
   ],
   "source": [
    "print(f\"\"\"\n",
    "The Bonferroni simultaneous confidence interval is given by\n",
    "    {\"×\".join([f\"[{((a_means[i]) - t_alpha * np.sqrt(a_cov[i, i]) / np.sqrt(n))[0]}, {((a_means[i]) + t_alpha * np.sqrt(a_cov[i, i]) / np.sqrt(n))[0]}]\"for i in range(k)])}\n",
    "\"\"\")"
   ]
  },
  {
   "cell_type": "markdown",
   "id": "27c94caa",
   "metadata": {},
   "source": [
    "Notice that $\\begin{bmatrix} 0\\\\0 \\end{bmatrix} ∉ [-0.0736, 1.2736]×[0.7524, 2.6476]$, hence we must reject $H_0$."
   ]
  },
  {
   "cell_type": "markdown",
   "id": "a713a7b2",
   "metadata": {},
   "source": [
    "## Question 3\n",
    "A prison divides prisoners into 3 parts: ordinary prisoners (catagory 1), crazy prisoners(catagory 2) and other prisoners(catagory 3). 20 prisoners were selected from each of the 3 parts to measure the length of their ears. Under the hypothesis of multivariate normality, we tried to test whether there was significant difference in the length of ears of 3 parts ($\\alpha = 0.05$)."
   ]
  },
  {
   "cell_type": "code",
   "execution_count": 9,
   "id": "f2c8e01a",
   "metadata": {},
   "outputs": [
    {
     "data": {
      "text/html": [
       "<div>\n",
       "<style scoped>\n",
       "    .dataframe tbody tr th:only-of-type {\n",
       "        vertical-align: middle;\n",
       "    }\n",
       "\n",
       "    .dataframe tbody tr th {\n",
       "        vertical-align: top;\n",
       "    }\n",
       "\n",
       "    .dataframe thead th {\n",
       "        text-align: right;\n",
       "    }\n",
       "</style>\n",
       "<table border=\"1\" class=\"dataframe\">\n",
       "  <thead>\n",
       "    <tr style=\"text-align: right;\">\n",
       "      <th></th>\n",
       "      <th>x1</th>\n",
       "      <th>y1</th>\n",
       "      <th>x2</th>\n",
       "      <th>y2</th>\n",
       "      <th>x3</th>\n",
       "      <th>y3</th>\n",
       "    </tr>\n",
       "  </thead>\n",
       "  <tbody>\n",
       "    <tr>\n",
       "      <th>0</th>\n",
       "      <td>59</td>\n",
       "      <td>59</td>\n",
       "      <td>70</td>\n",
       "      <td>69</td>\n",
       "      <td>63</td>\n",
       "      <td>63</td>\n",
       "    </tr>\n",
       "    <tr>\n",
       "      <th>1</th>\n",
       "      <td>60</td>\n",
       "      <td>65</td>\n",
       "      <td>69</td>\n",
       "      <td>68</td>\n",
       "      <td>56</td>\n",
       "      <td>57</td>\n",
       "    </tr>\n",
       "    <tr>\n",
       "      <th>2</th>\n",
       "      <td>58</td>\n",
       "      <td>62</td>\n",
       "      <td>65</td>\n",
       "      <td>65</td>\n",
       "      <td>62</td>\n",
       "      <td>62</td>\n",
       "    </tr>\n",
       "    <tr>\n",
       "      <th>3</th>\n",
       "      <td>59</td>\n",
       "      <td>59</td>\n",
       "      <td>62</td>\n",
       "      <td>60</td>\n",
       "      <td>59</td>\n",
       "      <td>58</td>\n",
       "    </tr>\n",
       "    <tr>\n",
       "      <th>4</th>\n",
       "      <td>50</td>\n",
       "      <td>48</td>\n",
       "      <td>59</td>\n",
       "      <td>56</td>\n",
       "      <td>62</td>\n",
       "      <td>58</td>\n",
       "    </tr>\n",
       "    <tr>\n",
       "      <th>5</th>\n",
       "      <td>59</td>\n",
       "      <td>65</td>\n",
       "      <td>55</td>\n",
       "      <td>58</td>\n",
       "      <td>50</td>\n",
       "      <td>57</td>\n",
       "    </tr>\n",
       "    <tr>\n",
       "      <th>6</th>\n",
       "      <td>62</td>\n",
       "      <td>62</td>\n",
       "      <td>60</td>\n",
       "      <td>58</td>\n",
       "      <td>63</td>\n",
       "      <td>63</td>\n",
       "    </tr>\n",
       "    <tr>\n",
       "      <th>7</th>\n",
       "      <td>63</td>\n",
       "      <td>62</td>\n",
       "      <td>58</td>\n",
       "      <td>64</td>\n",
       "      <td>61</td>\n",
       "      <td>62</td>\n",
       "    </tr>\n",
       "    <tr>\n",
       "      <th>8</th>\n",
       "      <td>68</td>\n",
       "      <td>72</td>\n",
       "      <td>65</td>\n",
       "      <td>67</td>\n",
       "      <td>55</td>\n",
       "      <td>59</td>\n",
       "    </tr>\n",
       "    <tr>\n",
       "      <th>9</th>\n",
       "      <td>63</td>\n",
       "      <td>66</td>\n",
       "      <td>67</td>\n",
       "      <td>62</td>\n",
       "      <td>63</td>\n",
       "      <td>63</td>\n",
       "    </tr>\n",
       "    <tr>\n",
       "      <th>10</th>\n",
       "      <td>66</td>\n",
       "      <td>63</td>\n",
       "      <td>60</td>\n",
       "      <td>57</td>\n",
       "      <td>65</td>\n",
       "      <td>70</td>\n",
       "    </tr>\n",
       "    <tr>\n",
       "      <th>11</th>\n",
       "      <td>56</td>\n",
       "      <td>56</td>\n",
       "      <td>53</td>\n",
       "      <td>55</td>\n",
       "      <td>64</td>\n",
       "      <td>64</td>\n",
       "    </tr>\n",
       "    <tr>\n",
       "      <th>12</th>\n",
       "      <td>62</td>\n",
       "      <td>64</td>\n",
       "      <td>66</td>\n",
       "      <td>65</td>\n",
       "      <td>65</td>\n",
       "      <td>65</td>\n",
       "    </tr>\n",
       "    <tr>\n",
       "      <th>13</th>\n",
       "      <td>66</td>\n",
       "      <td>68</td>\n",
       "      <td>60</td>\n",
       "      <td>53</td>\n",
       "      <td>67</td>\n",
       "      <td>67</td>\n",
       "    </tr>\n",
       "    <tr>\n",
       "      <th>14</th>\n",
       "      <td>65</td>\n",
       "      <td>66</td>\n",
       "      <td>59</td>\n",
       "      <td>58</td>\n",
       "      <td>55</td>\n",
       "      <td>55</td>\n",
       "    </tr>\n",
       "    <tr>\n",
       "      <th>15</th>\n",
       "      <td>61</td>\n",
       "      <td>60</td>\n",
       "      <td>58</td>\n",
       "      <td>54</td>\n",
       "      <td>56</td>\n",
       "      <td>56</td>\n",
       "    </tr>\n",
       "    <tr>\n",
       "      <th>16</th>\n",
       "      <td>60</td>\n",
       "      <td>64</td>\n",
       "      <td>60</td>\n",
       "      <td>56</td>\n",
       "      <td>65</td>\n",
       "      <td>67</td>\n",
       "    </tr>\n",
       "    <tr>\n",
       "      <th>17</th>\n",
       "      <td>60</td>\n",
       "      <td>57</td>\n",
       "      <td>54</td>\n",
       "      <td>59</td>\n",
       "      <td>62</td>\n",
       "      <td>65</td>\n",
       "    </tr>\n",
       "    <tr>\n",
       "      <th>18</th>\n",
       "      <td>58</td>\n",
       "      <td>60</td>\n",
       "      <td>62</td>\n",
       "      <td>66</td>\n",
       "      <td>55</td>\n",
       "      <td>61</td>\n",
       "    </tr>\n",
       "    <tr>\n",
       "      <th>19</th>\n",
       "      <td>58</td>\n",
       "      <td>59</td>\n",
       "      <td>59</td>\n",
       "      <td>61</td>\n",
       "      <td>58</td>\n",
       "      <td>58</td>\n",
       "    </tr>\n",
       "  </tbody>\n",
       "</table>\n",
       "</div>"
      ],
      "text/plain": [
       "    x1  y1  x2  y2  x3  y3\n",
       "0   59  59  70  69  63  63\n",
       "1   60  65  69  68  56  57\n",
       "2   58  62  65  65  62  62\n",
       "3   59  59  62  60  59  58\n",
       "4   50  48  59  56  62  58\n",
       "5   59  65  55  58  50  57\n",
       "6   62  62  60  58  63  63\n",
       "7   63  62  58  64  61  62\n",
       "8   68  72  65  67  55  59\n",
       "9   63  66  67  62  63  63\n",
       "10  66  63  60  57  65  70\n",
       "11  56  56  53  55  64  64\n",
       "12  62  64  66  65  65  65\n",
       "13  66  68  60  53  67  67\n",
       "14  65  66  59  58  55  55\n",
       "15  61  60  58  54  56  56\n",
       "16  60  64  60  56  65  67\n",
       "17  60  57  54  59  62  65\n",
       "18  58  60  62  66  55  61\n",
       "19  58  59  59  61  58  58"
      ]
     },
     "execution_count": 9,
     "metadata": {},
     "output_type": "execute_result"
    }
   ],
   "source": [
    "df = pd.read_csv(\"4_10.csv\")\n",
    "df"
   ]
  },
  {
   "cell_type": "code",
   "execution_count": 10,
   "id": "508e9261",
   "metadata": {},
   "outputs": [],
   "source": [
    "means = np.array(df.mean()).reshape(-1, 1)\n",
    "cov = np.array(df.cov())"
   ]
  },
  {
   "cell_type": "code",
   "execution_count": 11,
   "id": "0d9a9a8c",
   "metadata": {},
   "outputs": [
    {
     "name": "stdout",
     "output_type": "stream",
     "text": [
      "\n",
      "F =  1.1069\n",
      "F(0.05, 4, 112) =  2.4527\n",
      "\n"
     ]
    }
   ],
   "source": [
    "n = len(df)\n",
    "k = 3\n",
    "p = 2\n",
    "alpha = 0.05\n",
    "mmeans = sum([means[2 * i: 2 * i + 2] for i in range(0, k)]) / k\n",
    "\n",
    "E = (n - 1) * sum([cov[2 * i : 2 * i + 2, 2 * i : 2 * i + 2] for i in range(0, k)])\n",
    "H = n * sum([(means[2 * i : 2 * i + 2] - mmeans) @ (means[2 * i : 2 * i + 2] - mmeans).T for i in range(0, k)])\n",
    "L = np.linalg.det(E) / np.linalg.det(E + H)\n",
    "F = (k * n - k - p + 1) * (1 - np.sqrt(L)) / p / np.sqrt(L)\n",
    "F_alpha = f.ppf(1 - alpha, 2 * p, 2 * (k * n - k - p + 1))\n",
    "\n",
    "print(f\"\"\"\n",
    "F = {F : .4f}\n",
    "F({alpha}, {2 * p}, {2 * (k * n - k - p + 1)}) = {F_alpha : .4f}\n",
    "\"\"\")"
   ]
  },
  {
   "cell_type": "markdown",
   "id": "856c68bd",
   "metadata": {},
   "source": [
    "**Solution:**\n",
    "We want to test whether $H_0: \\mu_1 = \\mu_2 = \\mu_3$ or $H_1:$ At least 2 of $\\mu_1, \\mu_2, \\mu_3$ are unequal, with the significance level of $1 - \\alpha = 0.95$.\n",
    "\n",
    "The test statistic $F = \\frac{(n - k - p + 1)\\sqrt\\Lambda}{p\\sqrt\\Lambda}=1.1069 < F(\\alpha, 2p, 2(n - k - p + 1)) = 2.4527$, hence we cannot reject $H_0$."
   ]
  }
 ],
 "metadata": {
  "kernelspec": {
   "display_name": "Python 3 (ipykernel)",
   "language": "python",
   "name": "python3"
  },
  "language_info": {
   "codemirror_mode": {
    "name": "ipython",
    "version": 3
   },
   "file_extension": ".py",
   "mimetype": "text/x-python",
   "name": "python",
   "nbconvert_exporter": "python",
   "pygments_lexer": "ipython3",
   "version": "3.10.3"
  }
 },
 "nbformat": 4,
 "nbformat_minor": 5
}
