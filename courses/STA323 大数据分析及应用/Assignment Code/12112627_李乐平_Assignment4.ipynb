{
 "cells": [
  {
   "cell_type": "code",
   "execution_count": 2,
   "id": "9ef54254-d6aa-45db-814a-3fba7784ade4",
   "metadata": {
    "tags": []
   },
   "outputs": [],
   "source": [
    "import numpy as np\n",
    "import pandas as pd\n",
    "from pyspark.sql import SparkSession\n",
    "from pyspark.sql.types import * \n",
    "import pyspark.sql.functions as F\n",
    "from pyspark.ml import Pipeline\n",
    "from pyspark.ml.feature import StringIndexer, OneHotEncoder, VectorAssembler, Imputer\n",
    "from pyspark.ml.regression import DecisionTreeRegressor\n",
    "from pyspark.ml.evaluation import RegressionEvaluator\n",
    "from pyspark.ml.tuning import TrainValidationSplit, ParamGridBuilder\n",
    "from pyspark.ml.tuning import TrainValidationSplitModel\n",
    "from pyspark.ml.linalg import Vectors\n",
    "from pyspark.sql.functions import col, lit\n",
    "from pyspark.mllib.tree import DecisionTree\n",
    "from pyspark.mllib.regression import LabeledPoint\n",
    "from pyspark.ml.clustering import KMeans\n",
    "from pyspark.ml.evaluation import ClusteringEvaluator"
   ]
  },
  {
   "cell_type": "code",
   "execution_count": 3,
   "id": "be7672b5-c816-4623-ae10-fa7b25075956",
   "metadata": {
    "tags": []
   },
   "outputs": [
    {
     "name": "stderr",
     "output_type": "stream",
     "text": [
      "https://mmlspark.azureedge.net/maven added as a remote repository with the name: repo-1\n",
      "Ivy Default Cache set to: /root/.ivy2/cache\n",
      "The jars for the packages stored in: /root/.ivy2/jars\n",
      "com.microsoft.azure#synapseml_2.12 added as a dependency\n",
      ":: resolving dependencies :: org.apache.spark#spark-submit-parent-5e5b5540-2ed2-42fb-bbbe-652a85d519f4;1.0\n",
      "\tconfs: [default]\n"
     ]
    },
    {
     "name": "stdout",
     "output_type": "stream",
     "text": [
      ":: loading settings :: url = jar:file:/opt/module/spark-3.5.0-bin-hadoop3/jars/ivy-2.5.1.jar!/org/apache/ivy/core/settings/ivysettings.xml\n"
     ]
    },
    {
     "name": "stderr",
     "output_type": "stream",
     "text": [
      "\tfound com.microsoft.azure#synapseml_2.12;1.0.4 in central\n",
      "\tfound com.microsoft.azure#synapseml-core_2.12;1.0.4 in central\n",
      "\tfound org.apache.spark#spark-avro_2.12;3.4.1 in central\n",
      "\tfound org.tukaani#xz;1.9 in central\n",
      "\tfound commons-lang#commons-lang;2.6 in central\n",
      "\tfound org.scalactic#scalactic_2.12;3.2.14 in central\n",
      "\tfound org.scala-lang#scala-reflect;2.12.15 in central\n",
      "\tfound io.spray#spray-json_2.12;1.3.5 in central\n",
      "\tfound com.jcraft#jsch;0.1.54 in central\n",
      "\tfound org.apache.httpcomponents.client5#httpclient5;5.1.3 in central\n",
      "\tfound org.apache.httpcomponents.core5#httpcore5;5.1.3 in central\n",
      "\tfound org.apache.httpcomponents.core5#httpcore5-h2;5.1.3 in central\n",
      "\tfound org.slf4j#slf4j-api;1.7.25 in central\n",
      "\tfound commons-codec#commons-codec;1.15 in central\n",
      "\tfound org.apache.httpcomponents#httpmime;4.5.13 in central\n",
      "\tfound org.apache.httpcomponents#httpclient;4.5.13 in central\n",
      "\tfound org.apache.httpcomponents#httpcore;4.4.13 in central\n",
      "\tfound commons-logging#commons-logging;1.2 in central\n",
      "\tfound com.linkedin.isolation-forest#isolation-forest_3.4.2_2.12;3.0.4 in central\n",
      "\tfound com.chuusai#shapeless_2.12;2.3.10 in central\n",
      "\tfound org.testng#testng;6.8.8 in central\n",
      "\tfound org.beanshell#bsh;2.0b4 in central\n",
      "\tfound com.beust#jcommander;1.27 in central\n",
      "\tfound org.scalanlp#breeze_2.12;2.1.0 in central\n",
      "\tfound org.scalanlp#breeze-macros_2.12;2.1.0 in central\n",
      "\tfound org.typelevel#spire_2.12;0.17.0 in central\n",
      "\tfound org.typelevel#spire-macros_2.12;0.17.0 in central\n",
      "\tfound org.typelevel#algebra_2.12;2.0.1 in central\n",
      "\tfound org.typelevel#cats-kernel_2.12;2.1.1 in central\n",
      "\tfound org.typelevel#spire-platform_2.12;0.17.0 in central\n",
      "\tfound org.typelevel#spire-util_2.12;0.17.0 in central\n",
      "\tfound dev.ludovic.netlib#blas;3.0.1 in central\n",
      "\tfound net.sourceforge.f2j#arpack_combined_all;0.1 in central\n",
      "\tfound dev.ludovic.netlib#lapack;3.0.1 in central\n",
      "\tfound dev.ludovic.netlib#arpack;3.0.1 in central\n",
      "\tfound net.sf.opencsv#opencsv;2.3 in central\n",
      "\tfound com.github.wendykierp#JTransforms;3.1 in central\n",
      "\tfound pl.edu.icm#JLargeArrays;1.5 in central\n",
      "\tfound org.apache.commons#commons-math3;3.2 in central\n",
      "\tfound org.scala-lang.modules#scala-collection-compat_2.12;2.7.0 in central\n",
      "\tfound com.microsoft.azure#synapseml-deep-learning_2.12;1.0.4 in central\n",
      "\tfound com.microsoft.azure#synapseml-opencv_2.12;1.0.4 in central\n",
      "\tfound org.openpnp#opencv;3.2.0-1 in central\n",
      "\tfound com.microsoft.azure#onnx-protobuf_2.12;0.9.3 in central\n",
      "\tfound com.microsoft.onnxruntime#onnxruntime_gpu;1.8.1 in central\n",
      "\tfound com.microsoft.azure#synapseml-cognitive_2.12;1.0.4 in central\n",
      "\tfound com.microsoft.cognitiveservices.speech#client-sdk;1.24.1 in central\n",
      "\tfound com.microsoft.azure#synapseml-vw_2.12;1.0.4 in central\n",
      "\tfound com.github.vowpalwabbit#vw-jni;9.3.0 in central\n",
      "\tfound com.microsoft.azure#synapseml-lightgbm_2.12;1.0.4 in central\n",
      "\tfound com.microsoft.ml.lightgbm#lightgbmlib;3.3.510 in central\n",
      ":: resolution report :: resolve 771ms :: artifacts dl 28ms\n",
      "\t:: modules in use:\n",
      "\tcom.beust#jcommander;1.27 from central in [default]\n",
      "\tcom.chuusai#shapeless_2.12;2.3.10 from central in [default]\n",
      "\tcom.github.vowpalwabbit#vw-jni;9.3.0 from central in [default]\n",
      "\tcom.github.wendykierp#JTransforms;3.1 from central in [default]\n",
      "\tcom.jcraft#jsch;0.1.54 from central in [default]\n",
      "\tcom.linkedin.isolation-forest#isolation-forest_3.4.2_2.12;3.0.4 from central in [default]\n",
      "\tcom.microsoft.azure#onnx-protobuf_2.12;0.9.3 from central in [default]\n",
      "\tcom.microsoft.azure#synapseml-cognitive_2.12;1.0.4 from central in [default]\n",
      "\tcom.microsoft.azure#synapseml-core_2.12;1.0.4 from central in [default]\n",
      "\tcom.microsoft.azure#synapseml-deep-learning_2.12;1.0.4 from central in [default]\n",
      "\tcom.microsoft.azure#synapseml-lightgbm_2.12;1.0.4 from central in [default]\n",
      "\tcom.microsoft.azure#synapseml-opencv_2.12;1.0.4 from central in [default]\n",
      "\tcom.microsoft.azure#synapseml-vw_2.12;1.0.4 from central in [default]\n",
      "\tcom.microsoft.azure#synapseml_2.12;1.0.4 from central in [default]\n",
      "\tcom.microsoft.cognitiveservices.speech#client-sdk;1.24.1 from central in [default]\n",
      "\tcom.microsoft.ml.lightgbm#lightgbmlib;3.3.510 from central in [default]\n",
      "\tcom.microsoft.onnxruntime#onnxruntime_gpu;1.8.1 from central in [default]\n",
      "\tcommons-codec#commons-codec;1.15 from central in [default]\n",
      "\tcommons-lang#commons-lang;2.6 from central in [default]\n",
      "\tcommons-logging#commons-logging;1.2 from central in [default]\n",
      "\tdev.ludovic.netlib#arpack;3.0.1 from central in [default]\n",
      "\tdev.ludovic.netlib#blas;3.0.1 from central in [default]\n",
      "\tdev.ludovic.netlib#lapack;3.0.1 from central in [default]\n",
      "\tio.spray#spray-json_2.12;1.3.5 from central in [default]\n",
      "\tnet.sf.opencsv#opencsv;2.3 from central in [default]\n",
      "\tnet.sourceforge.f2j#arpack_combined_all;0.1 from central in [default]\n",
      "\torg.apache.commons#commons-math3;3.2 from central in [default]\n",
      "\torg.apache.httpcomponents#httpclient;4.5.13 from central in [default]\n",
      "\torg.apache.httpcomponents#httpcore;4.4.13 from central in [default]\n",
      "\torg.apache.httpcomponents#httpmime;4.5.13 from central in [default]\n",
      "\torg.apache.httpcomponents.client5#httpclient5;5.1.3 from central in [default]\n",
      "\torg.apache.httpcomponents.core5#httpcore5;5.1.3 from central in [default]\n",
      "\torg.apache.httpcomponents.core5#httpcore5-h2;5.1.3 from central in [default]\n",
      "\torg.apache.spark#spark-avro_2.12;3.4.1 from central in [default]\n",
      "\torg.beanshell#bsh;2.0b4 from central in [default]\n",
      "\torg.openpnp#opencv;3.2.0-1 from central in [default]\n",
      "\torg.scala-lang#scala-reflect;2.12.15 from central in [default]\n",
      "\torg.scala-lang.modules#scala-collection-compat_2.12;2.7.0 from central in [default]\n",
      "\torg.scalactic#scalactic_2.12;3.2.14 from central in [default]\n",
      "\torg.scalanlp#breeze-macros_2.12;2.1.0 from central in [default]\n",
      "\torg.scalanlp#breeze_2.12;2.1.0 from central in [default]\n",
      "\torg.slf4j#slf4j-api;1.7.25 from central in [default]\n",
      "\torg.testng#testng;6.8.8 from central in [default]\n",
      "\torg.tukaani#xz;1.9 from central in [default]\n",
      "\torg.typelevel#algebra_2.12;2.0.1 from central in [default]\n",
      "\torg.typelevel#cats-kernel_2.12;2.1.1 from central in [default]\n",
      "\torg.typelevel#spire-macros_2.12;0.17.0 from central in [default]\n",
      "\torg.typelevel#spire-platform_2.12;0.17.0 from central in [default]\n",
      "\torg.typelevel#spire-util_2.12;0.17.0 from central in [default]\n",
      "\torg.typelevel#spire_2.12;0.17.0 from central in [default]\n",
      "\tpl.edu.icm#JLargeArrays;1.5 from central in [default]\n",
      "\t:: evicted modules:\n",
      "\tcommons-codec#commons-codec;1.11 by [commons-codec#commons-codec;1.15] in [default]\n",
      "\torg.scala-lang.modules#scala-collection-compat_2.12;2.2.0 by [org.scala-lang.modules#scala-collection-compat_2.12;2.7.0] in [default]\n",
      "\torg.apache.commons#commons-math3;3.5 by [org.apache.commons#commons-math3;3.2] in [default]\n",
      "\torg.slf4j#slf4j-api;1.7.5 by [org.slf4j#slf4j-api;1.7.25] in [default]\n",
      "\t---------------------------------------------------------------------\n",
      "\t|                  |            modules            ||   artifacts   |\n",
      "\t|       conf       | number| search|dwnlded|evicted|| number|dwnlded|\n",
      "\t---------------------------------------------------------------------\n",
      "\t|      default     |   55  |   0   |   0   |   4   ||   51  |   0   |\n",
      "\t---------------------------------------------------------------------\n",
      ":: retrieving :: org.apache.spark#spark-submit-parent-5e5b5540-2ed2-42fb-bbbe-652a85d519f4\n",
      "\tconfs: [default]\n",
      "\t0 artifacts copied, 51 already retrieved (0kB/24ms)\n",
      "24/05/20 08:51:54 WARN NativeCodeLoader: Unable to load native-hadoop library for your platform... using builtin-java classes where applicable\n",
      "Setting default log level to \"WARN\".\n",
      "To adjust logging level use sc.setLogLevel(newLevel). For SparkR, use setLogLevel(newLevel).\n",
      "Setting Spark log level to \"ERROR\".\n"
     ]
    }
   ],
   "source": [
    "root_dir = \"/data/lab/STA323/hw04/\"\n",
    "\n",
    "spark = SparkSession.builder\\\n",
    "    .config(\"spark.executorEnv.PYSPARK_PYTHON\",\"/root/anaconda3/bin/python\") \\\n",
    "    .config(\"spark.executor.memory\", \"8g\") \\\n",
    "    .config(\"spark.driver.memory\", \"8g\") \\\n",
    "    .config(\"spark.log.level\", \"ERROR\") \\\n",
    "    .config(\"spark.jars.packages\", \"com.microsoft.azure:synapseml_2.12:1.0.4\") \\\n",
    "    .config(\"spark.jars.repositories\", \"https://mmlspark.azureedge.net/maven\") \\\n",
    "    .appName(\"HW04\").getOrCreate()\n",
    "        # .config(\"spark.jars\", root_dir + \"./jar/synapseml_2.12-1.0.4.jar\") \\\n",
    "    # .config(\"spark.synapse.lightgbm.useBarrierExecuteMode\", \"true\") \\\n",
    "    # .config(\"spark.synapse.lightgbm.numThreads\", 1) \\\n",
    "    #     .config(\"spark.jars.packages\", \"com.microsoft.azure:synapseml_2.12:1.0.4\") \\\n",
    "    # .config(\"spark.jars.repositories\", \"https://mmlspark.azureedge.net/maven\") \\\n",
    "    # \n",
    "    "
   ]
  },
  {
   "cell_type": "code",
   "execution_count": 4,
   "id": "ab5fd226-a544-4e7e-9a1e-1955ac5ba83d",
   "metadata": {
    "tags": []
   },
   "outputs": [],
   "source": [
    "import synapse.ml"
   ]
  },
  {
   "cell_type": "code",
   "execution_count": 5,
   "id": "591cc653-f908-4095-8597-83c54dbcd1bd",
   "metadata": {
    "tags": []
   },
   "outputs": [
    {
     "name": "stderr",
     "output_type": "stream",
     "text": [
      "                                                                                \r"
     ]
    }
   ],
   "source": [
    "data = spark.read.csv(\"./data/Q1_house_price_data/train.csv\", header=True, inferSchema=True)"
   ]
  },
  {
   "cell_type": "code",
   "execution_count": 6,
   "id": "6e175b4d-557c-400d-9a15-5febccc477d8",
   "metadata": {
    "tags": []
   },
   "outputs": [],
   "source": [
    "test_data_origin = spark.read.csv(\"./data/Q1_house_price_data/test.csv\", header=True, schema = data.schema)"
   ]
  },
  {
   "cell_type": "code",
   "execution_count": 7,
   "id": "0e94ed80-e51a-4a51-a90b-37b7c25cdb95",
   "metadata": {
    "tags": []
   },
   "outputs": [],
   "source": [
    "data = data.fillna(0)\n",
    "test_data = test_data_origin.fillna(0)\n",
    "\n",
    "def transform(df, df_test):\n",
    "    df_test = df_test.withColumn(\"SalePrice\", lit(-1))\n",
    "    df_copy = df.union(df_test)\n",
    "    columns = []\n",
    "    stringIndexers = []\n",
    "    ohes = []\n",
    "    for col in df.schema:\n",
    "        if col == \"Utilities\":\n",
    "            continue\n",
    "        if isinstance(col.dataType, StringType):\n",
    "            columns.append(col.name + \"OHE\")\n",
    "            stringIndexer = StringIndexer().setInputCol(col.name).setOutputCol(col.name + \"Ind\").fit(df_copy)\n",
    "            df_copy = stringIndexer.transform(df_copy)\n",
    "            ohe = OneHotEncoder().setInputCol(col.name + \"Ind\").setOutputCol(col.name + \"OHE\").fit(df_copy)            \n",
    "            df_copy = ohe.transform(df_copy)\n",
    "            \n",
    "            stringIndexers.append(stringIndexer)\n",
    "            ohes.append(ohe)\n",
    "        else:\n",
    "            columns.append(col.name)\n",
    "\n",
    "    df_test = df_copy.filter(df_copy.SalePrice == -1)\n",
    "    df = df_copy.filter(df_copy.SalePrice != -1)\n",
    "    \n",
    "    return df, df_test, columns, stringIndexers, ohes\n",
    "\n",
    "train_data, test_data, cols, stringIndexers, ohes = transform(data, test_data)"
   ]
  },
  {
   "cell_type": "code",
   "execution_count": 8,
   "id": "0e76c29e-8c39-467a-824d-ea545186d9ae",
   "metadata": {
    "tags": []
   },
   "outputs": [],
   "source": [
    "va = VectorAssembler().setInputCols(cols[1 : -1]).setOutputCol(\"feature\")\n",
    "dt = DecisionTreeRegressor(featuresCol = \"feature\", labelCol = cols[-1])\n",
    "evaluator = RegressionEvaluator().setLabelCol(\"SalePrice\")\n",
    "grid = ParamGridBuilder() \\\n",
    "    .addGrid(dt.maxDepth, [5, 10, 15]) \\\n",
    "    .addGrid(dt.maxBins, [10, 20, 30]) \\\n",
    "    .addGrid(dt.minInstancesPerNode, [1, 5, 10]) \\\n",
    "    .build()\n",
    "tvs = TrainValidationSplit(\n",
    "    estimator = dt, \n",
    "    estimatorParamMaps = grid, \n",
    "    evaluator = evaluator,\n",
    "    parallelism = 1, \n",
    "    trainRatio = 0.8,\n",
    "    seed=42\n",
    ")\n",
    "va_train = va.transform(train_data)\n",
    "\n",
    "# pipeline = Pipeline(stages = [va, dt])"
   ]
  },
  {
   "cell_type": "code",
   "execution_count": 9,
   "id": "cae36981-729f-401e-b4ec-365bc031c850",
   "metadata": {
    "tags": []
   },
   "outputs": [],
   "source": [
    "va_test = va.transform(test_data)"
   ]
  },
  {
   "cell_type": "code",
   "execution_count": null,
   "id": "09829563-5cb2-4ae2-a864-c6e5c05ff317",
   "metadata": {},
   "outputs": [],
   "source": [
    "tvs_model = tvs.fit(va_train)"
   ]
  },
  {
   "cell_type": "code",
   "execution_count": 199,
   "id": "643b1ef4-6247-4e6e-b1ac-688aa4d0bef2",
   "metadata": {
    "tags": []
   },
   "outputs": [],
   "source": [
    "tvs_model.save(\"./output/dt.pth\")"
   ]
  },
  {
   "cell_type": "code",
   "execution_count": null,
   "id": "cb53256b-c2d1-4fcd-a40a-ada3dc76b5bf",
   "metadata": {},
   "outputs": [],
   "source": [
    "predictions = tvs_model.transform(va_test)"
   ]
  },
  {
   "cell_type": "code",
   "execution_count": 9,
   "id": "d1d10185-0b68-4fd5-8e0f-664811d46b6f",
   "metadata": {
    "tags": []
   },
   "outputs": [
    {
     "name": "stderr",
     "output_type": "stream",
     "text": [
      "[Stage 834:>                                                        (0 + 1) / 1]\r"
     ]
    },
    {
     "name": "stdout",
     "output_type": "stream",
     "text": [
      "+----+------------------+\n",
      "|  Id|        prediction|\n",
      "+----+------------------+\n",
      "|1970| 489036.8461538461|\n",
      "|1977|          337900.0|\n",
      "|1995|189361.68333333332|\n",
      "|2008|          218236.0|\n",
      "|2013|          184325.0|\n",
      "+----+------------------+\n",
      "only showing top 5 rows\n",
      "\n"
     ]
    },
    {
     "name": "stderr",
     "output_type": "stream",
     "text": [
      "                                                                                \r"
     ]
    }
   ],
   "source": [
    "predictions.select(\"Id\", \"prediction\").sample(False, 0.1).show(5)"
   ]
  },
  {
   "cell_type": "code",
   "execution_count": 9,
   "id": "1af3a787-bfcf-4c86-a65f-706c780787c9",
   "metadata": {
    "tags": []
   },
   "outputs": [],
   "source": [
    "import xgboost\n",
    "from xgboost.spark import SparkXGBRegressor\n",
    "xgb_regressor = SparkXGBRegressor(\n",
    "    features_col = \"feature\",\n",
    "    label_col = \"SalePrice\",\n",
    ")\n",
    "grid_xgb = ParamGridBuilder() \\\n",
    "    .addGrid(xgb_regressor.learning_rate, [0.1, 0.3, 0.5]) \\\n",
    "    .addGrid(xgb_regressor.max_depth, [6, 8, 10]) \\\n",
    "    .build()\n",
    "\n",
    "tvs_xgb = TrainValidationSplit(\n",
    "    estimator = xgb_regressor, \n",
    "    estimatorParamMaps = grid_xgb, \n",
    "    evaluator = evaluator,\n",
    "    parallelism = 1, \n",
    "    trainRatio = 0.8,\n",
    "    seed=42\n",
    ")"
   ]
  },
  {
   "cell_type": "code",
   "execution_count": 10,
   "id": "6c043c11-aeb9-403b-9530-3270fe913573",
   "metadata": {
    "tags": []
   },
   "outputs": [
    {
     "name": "stderr",
     "output_type": "stream",
     "text": [
      "2024-05-16 08:00:41,442 INFO XGBoost-PySpark: _fit Running xgboost-2.0.3 on 1 workers with\n",
      "\tbooster params: {'device': 'cpu', 'learning_rate': 0.1, 'max_depth': 6, 'objective': 'reg:squarederror', 'nthread': 1}\n",
      "\ttrain_call_kwargs_params: {'verbose_eval': True, 'num_boost_round': 100}\n",
      "\tdmatrix_kwargs: {'nthread': 1, 'missing': nan}\n",
      "[08:00:45] task 0 got new rank 0                                    (0 + 1) / 1]\n",
      "2024-05-16 08:00:46,870 INFO XGBoost-PySpark: _fit Finished xgboost training!   \n",
      "INFO:XGBoost-PySpark:Do the inference on the CPUs                   (1 + 1) / 2]\n",
      "2024-05-16 08:00:52,715 INFO XGBoost-PySpark: predict_udf Do the inference on the CPUs\n",
      "2024-05-16 08:00:53,150 INFO XGBoost-PySpark: _fit Running xgboost-2.0.3 on 1 workers with\n",
      "\tbooster params: {'device': 'cpu', 'learning_rate': 0.1, 'max_depth': 8, 'objective': 'reg:squarederror', 'nthread': 1}\n",
      "\ttrain_call_kwargs_params: {'verbose_eval': True, 'num_boost_round': 100}\n",
      "\tdmatrix_kwargs: {'nthread': 1, 'missing': nan}\n",
      "[08:00:54] task 0 got new rank 0                                    (0 + 1) / 1]\n",
      "2024-05-16 08:00:56,684 INFO XGBoost-PySpark: _fit Finished xgboost training!   \n",
      "2024-05-16 08:00:57,427 INFO XGBoost-PySpark: predict_udf Do the inference on the CPUs\n",
      "INFO:XGBoost-PySpark:Do the inference on the CPUs\n",
      "2024-05-16 08:00:57,876 INFO XGBoost-PySpark: _fit Running xgboost-2.0.3 on 1 workers with\n",
      "\tbooster params: {'device': 'cpu', 'learning_rate': 0.1, 'max_depth': 10, 'objective': 'reg:squarederror', 'nthread': 1}\n",
      "\ttrain_call_kwargs_params: {'verbose_eval': True, 'num_boost_round': 100}\n",
      "\tdmatrix_kwargs: {'nthread': 1, 'missing': nan}\n",
      "[08:00:59] task 0 got new rank 0                                    (0 + 1) / 1]\n",
      "2024-05-16 08:01:02,223 INFO XGBoost-PySpark: _fit Finished xgboost training!   \n",
      "2024-05-16 08:01:03,014 INFO XGBoost-PySpark: predict_udf Do the inference on the CPUs\n",
      "INFO:XGBoost-PySpark:Do the inference on the CPUs\n",
      "INFO:XGBoost-PySpark:Do the inference on the CPUs\n",
      "2024-05-16 08:01:03,443 INFO XGBoost-PySpark: _fit Running xgboost-2.0.3 on 1 workers with\n",
      "\tbooster params: {'device': 'cpu', 'learning_rate': 0.3, 'max_depth': 6, 'objective': 'reg:squarederror', 'nthread': 1}\n",
      "\ttrain_call_kwargs_params: {'verbose_eval': True, 'num_boost_round': 100}\n",
      "\tdmatrix_kwargs: {'nthread': 1, 'missing': nan}\n",
      "[08:01:04] task 0 got new rank 0                                    (0 + 1) / 1]\n",
      "2024-05-16 08:01:06,376 INFO XGBoost-PySpark: _fit Finished xgboost training!   \n",
      "INFO:XGBoost-PySpark:Do the inference on the CPUs\n",
      "2024-05-16 08:01:07,065 INFO XGBoost-PySpark: predict_udf Do the inference on the CPUs\n",
      "INFO:XGBoost-PySpark:Do the inference on the CPUs\n",
      "2024-05-16 08:01:07,476 INFO XGBoost-PySpark: _fit Running xgboost-2.0.3 on 1 workers with\n",
      "\tbooster params: {'device': 'cpu', 'learning_rate': 0.3, 'max_depth': 8, 'objective': 'reg:squarederror', 'nthread': 1}\n",
      "\ttrain_call_kwargs_params: {'verbose_eval': True, 'num_boost_round': 100}\n",
      "\tdmatrix_kwargs: {'nthread': 1, 'missing': nan}\n",
      "[08:01:08] task 0 got new rank 0                                    (0 + 1) / 1]\n",
      "2024-05-16 08:01:10,674 INFO XGBoost-PySpark: _fit Finished xgboost training!   \n",
      "2024-05-16 08:01:11,211 INFO XGBoost-PySpark: predict_udf Do the inference on the CPUs\n",
      "INFO:XGBoost-PySpark:Do the inference on the CPUs\n",
      "INFO:XGBoost-PySpark:Do the inference on the CPUs\n",
      "2024-05-16 08:01:11,648 INFO XGBoost-PySpark: _fit Running xgboost-2.0.3 on 1 workers with\n",
      "\tbooster params: {'device': 'cpu', 'learning_rate': 0.3, 'max_depth': 10, 'objective': 'reg:squarederror', 'nthread': 1}\n",
      "\ttrain_call_kwargs_params: {'verbose_eval': True, 'num_boost_round': 100}\n",
      "\tdmatrix_kwargs: {'nthread': 1, 'missing': nan}\n",
      "[08:01:13] task 0 got new rank 0                                    (0 + 1) / 1]\n",
      "2024-05-16 08:01:15,083 INFO XGBoost-PySpark: _fit Finished xgboost training!   \n",
      "INFO:XGBoost-PySpark:Do the inference on the CPUs\n",
      "2024-05-16 08:01:15,689 INFO XGBoost-PySpark: predict_udf Do the inference on the CPUs\n",
      "INFO:XGBoost-PySpark:Do the inference on the CPUs\n",
      "2024-05-16 08:01:16,021 INFO XGBoost-PySpark: _fit Running xgboost-2.0.3 on 1 workers with\n",
      "\tbooster params: {'device': 'cpu', 'learning_rate': 0.5, 'max_depth': 6, 'objective': 'reg:squarederror', 'nthread': 1}\n",
      "\ttrain_call_kwargs_params: {'verbose_eval': True, 'num_boost_round': 100}\n",
      "\tdmatrix_kwargs: {'nthread': 1, 'missing': nan}\n",
      "[08:01:17] task 0 got new rank 0                                    (0 + 1) / 1]\n",
      "2024-05-16 08:01:18,955 INFO XGBoost-PySpark: _fit Finished xgboost training!   \n",
      "2024-05-16 08:01:19,582 INFO XGBoost-PySpark: predict_udf Do the inference on the CPUs\n",
      "INFO:XGBoost-PySpark:Do the inference on the CPUs\n",
      "INFO:XGBoost-PySpark:Do the inference on the CPUs\n",
      "2024-05-16 08:01:20,038 INFO XGBoost-PySpark: _fit Running xgboost-2.0.3 on 1 workers with\n",
      "\tbooster params: {'device': 'cpu', 'learning_rate': 0.5, 'max_depth': 8, 'objective': 'reg:squarederror', 'nthread': 1}\n",
      "\ttrain_call_kwargs_params: {'verbose_eval': True, 'num_boost_round': 100}\n",
      "\tdmatrix_kwargs: {'nthread': 1, 'missing': nan}\n",
      "[08:01:21] task 0 got new rank 0                                    (0 + 1) / 1]\n",
      "2024-05-16 08:01:23,148 INFO XGBoost-PySpark: _fit Finished xgboost training!   \n",
      "INFO:XGBoost-PySpark:Do the inference on the CPUs\n",
      "2024-05-16 08:01:23,665 INFO XGBoost-PySpark: predict_udf Do the inference on the CPUs\n",
      "INFO:XGBoost-PySpark:Do the inference on the CPUs\n",
      "2024-05-16 08:01:24,038 INFO XGBoost-PySpark: _fit Running xgboost-2.0.3 on 1 workers with\n",
      "\tbooster params: {'device': 'cpu', 'learning_rate': 0.5, 'max_depth': 10, 'objective': 'reg:squarederror', 'nthread': 1}\n",
      "\ttrain_call_kwargs_params: {'verbose_eval': True, 'num_boost_round': 100}\n",
      "\tdmatrix_kwargs: {'nthread': 1, 'missing': nan}\n",
      "[08:01:25] task 0 got new rank 0                                    (0 + 1) / 1]\n",
      "2024-05-16 08:01:27,489 INFO XGBoost-PySpark: _fit Finished xgboost training!   \n",
      "2024-05-16 08:01:28,125 INFO XGBoost-PySpark: predict_udf Do the inference on the CPUs\n",
      "INFO:XGBoost-PySpark:Do the inference on the CPUs\n",
      "INFO:XGBoost-PySpark:Do the inference on the CPUs\n",
      "2024-05-16 08:01:30,963 INFO XGBoost-PySpark: _fit Running xgboost-2.0.3 on 1 workers with\n",
      "\tbooster params: {'device': 'cpu', 'learning_rate': 0.1, 'max_depth': 6, 'objective': 'reg:squarederror', 'nthread': 1}\n",
      "\ttrain_call_kwargs_params: {'verbose_eval': True, 'num_boost_round': 100}\n",
      "\tdmatrix_kwargs: {'nthread': 1, 'missing': nan}\n",
      "[08:01:37] task 0 got new rank 0                                    (0 + 1) / 1]\n",
      "2024-05-16 08:01:39,319 INFO XGBoost-PySpark: _fit Finished xgboost training!   \n"
     ]
    }
   ],
   "source": [
    "xgb_model = tvs_xgb.fit(va_train)"
   ]
  },
  {
   "cell_type": "code",
   "execution_count": 11,
   "id": "5db2aeb2-e29c-45c9-a680-24a7af6a38bc",
   "metadata": {
    "tags": []
   },
   "outputs": [],
   "source": [
    "predict_xgb = xgb_model.transform(va_test)"
   ]
  },
  {
   "cell_type": "code",
   "execution_count": 12,
   "id": "f37c316d",
   "metadata": {
    "tags": []
   },
   "outputs": [
    {
     "name": "stderr",
     "output_type": "stream",
     "text": [
      "INFO:XGBoost-PySpark:Do the inference on the CPUs                   (0 + 1) / 1]\n",
      "2024-05-16 08:01:55,060 INFO XGBoost-PySpark: predict_udf Do the inference on the CPUs\n",
      "INFO:XGBoost-PySpark:Do the inference on the CPUs\n"
     ]
    },
    {
     "name": "stdout",
     "output_type": "stream",
     "text": [
      "+----+-------------+\n",
      "|  Id|   prediction|\n",
      "+----+-------------+\n",
      "|1963| 98694.640625|\n",
      "|1989|187828.671875|\n",
      "|2054|81152.1640625|\n",
      "|2055| 157643.28125|\n",
      "|2059|  119607.3125|\n",
      "+----+-------------+\n",
      "only showing top 5 rows\n",
      "\n"
     ]
    },
    {
     "name": "stderr",
     "output_type": "stream",
     "text": [
      "                                                                                \r"
     ]
    }
   ],
   "source": [
    "predict_xgb.select(\"Id\", \"prediction\").sample(False, 0.1).show(5)"
   ]
  },
  {
   "cell_type": "code",
   "execution_count": 77,
   "id": "6c4934f1-f502-42a0-b967-56b42c918bb0",
   "metadata": {
    "tags": []
   },
   "outputs": [],
   "source": [
    "import xgboost as xgb"
   ]
  },
  {
   "cell_type": "code",
   "execution_count": 134,
   "id": "833319ef-f891-47a9-8135-14cb82ec1184",
   "metadata": {
    "tags": []
   },
   "outputs": [
    {
     "name": "stderr",
     "output_type": "stream",
     "text": [
      "                                                                                \r"
     ]
    }
   ],
   "source": [
    "train_df = train_data.toPandas()\n",
    "test_df = test_data.toPandas()"
   ]
  },
  {
   "cell_type": "code",
   "execution_count": 130,
   "id": "c7e9f891-8819-4fc3-b7a5-6154d574fa09",
   "metadata": {
    "tags": []
   },
   "outputs": [],
   "source": [
    "for col in cols:\n",
    "    if col.endswith(\"OHE\"):\n",
    "        train_df[col[:-3]] = train_df[col[:-3]].astype(\"category\")\n",
    "\n",
    "dtrain = xgb.DMatrix(train_df[[col.replace(\"OHE\", \"\") for col in cols[1:-1]]], label = train_df[\"SalePrice\"], enable_categorical = True)\n",
    "\n",
    "# dtrain = xgb.DMatrix(train_df[\"feature\"]._get_numeric_data(), label = train_df[\"SalePrice\"], enable_categorical = True)\n",
    "\n",
    "params = {\n",
    "    'objective': 'reg:squarederror', \n",
    "    'eval_metric': 'rmse'             \n",
    "}\n",
    "\n",
    "\n",
    "num_rounds = 10\n",
    "xgb_model = xgb.train(params, dtrain, num_rounds)"
   ]
  },
  {
   "cell_type": "code",
   "execution_count": 132,
   "id": "11ef1105-cb74-408a-a342-805292d7cb1c",
   "metadata": {
    "tags": []
   },
   "outputs": [],
   "source": [
    "xgb_model.save_model(\"./output/xgb.json\")"
   ]
  },
  {
   "cell_type": "code",
   "execution_count": 136,
   "id": "1ac70ef1-f01b-4db2-89c7-6a0b18dccd70",
   "metadata": {
    "tags": []
   },
   "outputs": [],
   "source": [
    "for col in cols:\n",
    "    if col.endswith(\"OHE\"):\n",
    "        test_df[col[:-3]] = test_df[col[:-3]].astype(\"category\")\n",
    "dtest = xgb.DMatrix(test_df[[col.replace(\"OHE\", \"\") for col in cols[1:-1]]], enable_categorical = True)\n",
    "predictions = xgb_model.predict(dtest)"
   ]
  },
  {
   "cell_type": "code",
   "execution_count": 139,
   "id": "cb77ad9a-ad53-4172-b4ca-a7d0a8c70542",
   "metadata": {
    "tags": []
   },
   "outputs": [
    {
     "data": {
      "text/html": [
       "<div>\n",
       "<style scoped>\n",
       "    .dataframe tbody tr th:only-of-type {\n",
       "        vertical-align: middle;\n",
       "    }\n",
       "\n",
       "    .dataframe tbody tr th {\n",
       "        vertical-align: top;\n",
       "    }\n",
       "\n",
       "    .dataframe thead th {\n",
       "        text-align: right;\n",
       "    }\n",
       "</style>\n",
       "<table border=\"1\" class=\"dataframe\">\n",
       "  <thead>\n",
       "    <tr style=\"text-align: right;\">\n",
       "      <th></th>\n",
       "      <th>Id</th>\n",
       "      <th>predictions</th>\n",
       "    </tr>\n",
       "  </thead>\n",
       "  <tbody>\n",
       "    <tr>\n",
       "      <th>0</th>\n",
       "      <td>3</td>\n",
       "      <td>212435.500000</td>\n",
       "    </tr>\n",
       "    <tr>\n",
       "      <th>1</th>\n",
       "      <td>7</td>\n",
       "      <td>202187.984375</td>\n",
       "    </tr>\n",
       "    <tr>\n",
       "      <th>2</th>\n",
       "      <td>9</td>\n",
       "      <td>185455.312500</td>\n",
       "    </tr>\n",
       "    <tr>\n",
       "      <th>3</th>\n",
       "      <td>14</td>\n",
       "      <td>153069.390625</td>\n",
       "    </tr>\n",
       "    <tr>\n",
       "      <th>4</th>\n",
       "      <td>20</td>\n",
       "      <td>159011.343750</td>\n",
       "    </tr>\n",
       "    <tr>\n",
       "      <th>...</th>\n",
       "      <td>...</td>\n",
       "      <td>...</td>\n",
       "    </tr>\n",
       "    <tr>\n",
       "      <th>248</th>\n",
       "      <td>1435</td>\n",
       "      <td>162971.437500</td>\n",
       "    </tr>\n",
       "    <tr>\n",
       "      <th>249</th>\n",
       "      <td>1437</td>\n",
       "      <td>149057.734375</td>\n",
       "    </tr>\n",
       "    <tr>\n",
       "      <th>250</th>\n",
       "      <td>1452</td>\n",
       "      <td>200826.953125</td>\n",
       "    </tr>\n",
       "    <tr>\n",
       "      <th>251</th>\n",
       "      <td>1453</td>\n",
       "      <td>150350.265625</td>\n",
       "    </tr>\n",
       "    <tr>\n",
       "      <th>252</th>\n",
       "      <td>1459</td>\n",
       "      <td>151762.125000</td>\n",
       "    </tr>\n",
       "  </tbody>\n",
       "</table>\n",
       "<p>253 rows × 2 columns</p>\n",
       "</div>"
      ],
      "text/plain": [
       "       Id    predictions\n",
       "0       3  212435.500000\n",
       "1       7  202187.984375\n",
       "2       9  185455.312500\n",
       "3      14  153069.390625\n",
       "4      20  159011.343750\n",
       "..    ...            ...\n",
       "248  1435  162971.437500\n",
       "249  1437  149057.734375\n",
       "250  1452  200826.953125\n",
       "251  1453  150350.265625\n",
       "252  1459  151762.125000\n",
       "\n",
       "[253 rows x 2 columns]"
      ]
     },
     "execution_count": 139,
     "metadata": {},
     "output_type": "execute_result"
    }
   ],
   "source": [
    "test_df[\"predictions\"] = predictions\n",
    "test_df[[\"Id\", \"predictions\"]]"
   ]
  },
  {
   "cell_type": "code",
   "execution_count": 13,
   "id": "9e7075a6-8968-4f69-86a1-526120e381f4",
   "metadata": {
    "tags": []
   },
   "outputs": [],
   "source": [
    "import synapse.ml"
   ]
  },
  {
   "cell_type": "code",
   "execution_count": 15,
   "id": "fa97399c-b680-440c-bfb5-c31e029e04be",
   "metadata": {
    "tags": []
   },
   "outputs": [],
   "source": [
    "from synapse.ml.lightgbm import LightGBMRegressor\n",
    "\n",
    "LC = LightGBMRegressor(\n",
    "    featuresCol=\"feature\", \n",
    "    labelCol = \"SalePrice\"\n",
    ")\n",
    "grid_lgbm = ParamGridBuilder() \\\n",
    "    .addGrid(LC.alpha, [0.3, 0.5]) \\\n",
    "    .addGrid(LC.learningRate, [0.3, 0.5]) \\\n",
    "    .build()\n",
    "\n",
    "tvs_LC = TrainValidationSplit(\n",
    "    estimator = LC, \n",
    "    estimatorParamMaps = grid_lgbm, \n",
    "    evaluator = evaluator,\n",
    "    parallelism = 1, \n",
    "    trainRatio = 0.8,\n",
    "    seed=42\n",
    ")\n",
    "\n"
   ]
  },
  {
   "cell_type": "code",
   "execution_count": 16,
   "id": "367bc43b-32fc-40e7-a6f7-1912afe51476",
   "metadata": {
    "tags": []
   },
   "outputs": [
    {
     "name": "stderr",
     "output_type": "stream",
     "text": [
      "                                                                                \r"
     ]
    },
    {
     "name": "stdout",
     "output_type": "stream",
     "text": [
      "[LightGBM] [Info] Saving data reference to binary buffer\n",
      "[LightGBM] [Info] Loaded reference dataset: 209 features, 1207 num_data\n",
      "[LightGBM] [Warning] Found whitespace in feature_names, replace with underlines\n"
     ]
    },
    {
     "name": "stderr",
     "output_type": "stream",
     "text": [
      "                                                                                \r"
     ]
    },
    {
     "name": "stdout",
     "output_type": "stream",
     "text": [
      "[LightGBM] [Info] Saving data reference to binary buffer\n",
      "[LightGBM] [Info] Loaded reference dataset: 209 features, 1207 num_data\n",
      "[LightGBM] [Warning] Found whitespace in feature_names, replace with underlines\n"
     ]
    },
    {
     "name": "stderr",
     "output_type": "stream",
     "text": [
      "                                                                                \r"
     ]
    },
    {
     "name": "stdout",
     "output_type": "stream",
     "text": [
      "[LightGBM] [Info] Saving data reference to binary buffer\n",
      "[LightGBM] [Info] Loaded reference dataset: 209 features, 1207 num_data\n",
      "[LightGBM] [Warning] Found whitespace in feature_names, replace with underlines\n"
     ]
    },
    {
     "name": "stderr",
     "output_type": "stream",
     "text": [
      "                                                                                \r"
     ]
    },
    {
     "name": "stdout",
     "output_type": "stream",
     "text": [
      "[LightGBM] [Info] Saving data reference to binary buffer\n",
      "[LightGBM] [Info] Loaded reference dataset: 209 features, 1207 num_data\n",
      "[LightGBM] [Warning] Found whitespace in feature_names, replace with underlines\n"
     ]
    },
    {
     "name": "stderr",
     "output_type": "stream",
     "text": [
      "                                                                                \r"
     ]
    },
    {
     "name": "stdout",
     "output_type": "stream",
     "text": [
      "[LightGBM] [Info] Saving data reference to binary buffer\n"
     ]
    },
    {
     "name": "stderr",
     "output_type": "stream",
     "text": [
      "[Stage 206:>                                                        (0 + 2) / 2]\r"
     ]
    },
    {
     "name": "stdout",
     "output_type": "stream",
     "text": [
      "[LightGBM] [Info] Loaded reference dataset: 225 features, 1460 num_data\n",
      "[LightGBM] [Warning] Found whitespace in feature_names, replace with underlines\n"
     ]
    },
    {
     "name": "stderr",
     "output_type": "stream",
     "text": [
      "                                                                                \r"
     ]
    }
   ],
   "source": [
    "LCmodel = tvs_LC.fit(va_train.select(\"feature\", \"SalePrice\").filter(col(\"feature\").isNotNull()))\n"
   ]
  },
  {
   "cell_type": "code",
   "execution_count": 17,
   "id": "6790e251-5aae-4a8b-b7da-703e19b41477",
   "metadata": {
    "tags": []
   },
   "outputs": [
    {
     "name": "stderr",
     "output_type": "stream",
     "text": [
      "[Stage 208:>                                                        (0 + 1) / 1]\r"
     ]
    },
    {
     "name": "stdout",
     "output_type": "stream",
     "text": [
      "+----+------------------+\n",
      "|  Id|        prediction|\n",
      "+----+------------------+\n",
      "|1961|  116094.404021644|\n",
      "|1964|113483.04518325946|\n",
      "|1967|301002.78605465195|\n",
      "|1998| 344904.4351506987|\n",
      "|2006|242136.72580701215|\n",
      "+----+------------------+\n",
      "only showing top 5 rows\n",
      "\n"
     ]
    },
    {
     "name": "stderr",
     "output_type": "stream",
     "text": [
      "                                                                                \r"
     ]
    }
   ],
   "source": [
    "\n",
    "pred_lgbm = LCmodel.transform(va_test)\n",
    "pred_lgbm.select(\"Id\", \"prediction\").sample(False, 0.1).show(5)"
   ]
  },
  {
   "cell_type": "code",
   "execution_count": 17,
   "id": "6dd9234a-1417-4eab-9b4c-ac373fea2185",
   "metadata": {
    "tags": []
   },
   "outputs": [],
   "source": [
    "import matplotlib.pyplot as plt\n",
    "from sklearn.manifold import TSNE\n",
    "from pyspark.ml.feature import StandardScaler\n",
    "from pyspark.ml.feature import PCA"
   ]
  },
  {
   "cell_type": "code",
   "execution_count": 212,
   "id": "da8f1339-ce89-4fe1-98aa-9980283c0163",
   "metadata": {
    "tags": []
   },
   "outputs": [
    {
     "name": "stdout",
     "output_type": "stream",
     "text": [
      "+---------+---------+--------------------+--------+--------------+---------+----------+--------------+\n",
      "|InvoiceNo|StockCode|         Description|Quantity|   InvoiceDate|UnitPrice|CustomerID|       Country|\n",
      "+---------+---------+--------------------+--------+--------------+---------+----------+--------------+\n",
      "|   536365|   85123A|WHITE HANGING HEA...|       6|12/1/2010 8:26|     2.55|     17850|United Kingdom|\n",
      "|   536365|    71053| WHITE METAL LANTERN|       6|12/1/2010 8:26|     3.39|     17850|United Kingdom|\n",
      "|   536365|   84406B|CREAM CUPID HEART...|       8|12/1/2010 8:26|     2.75|     17850|United Kingdom|\n",
      "|   536365|   84029G|KNITTED UNION FLA...|       6|12/1/2010 8:26|     3.39|     17850|United Kingdom|\n",
      "|   536365|   84029E|RED WOOLLY HOTTIE...|       6|12/1/2010 8:26|     3.39|     17850|United Kingdom|\n",
      "+---------+---------+--------------------+--------+--------------+---------+----------+--------------+\n",
      "only showing top 5 rows\n",
      "\n",
      "root\n",
      " |-- InvoiceNo: string (nullable = true)\n",
      " |-- StockCode: string (nullable = true)\n",
      " |-- Description: string (nullable = true)\n",
      " |-- Quantity: integer (nullable = true)\n",
      " |-- InvoiceDate: string (nullable = true)\n",
      " |-- UnitPrice: double (nullable = true)\n",
      " |-- CustomerID: integer (nullable = true)\n",
      " |-- Country: string (nullable = true)\n",
      "\n"
     ]
    }
   ],
   "source": [
    "user_df = spark.read.csv(\"./data/Q2_customer_data.csv\", header = True, inferSchema = True)\n",
    "user_df.show(5)\n",
    "user_df.printSchema()"
   ]
  },
  {
   "cell_type": "code",
   "execution_count": 241,
   "id": "def99ea3-ed98-4dd3-b3a8-fbb0ee69aa10",
   "metadata": {
    "tags": []
   },
   "outputs": [],
   "source": [
    "user_df = spark.read.csv(\"./data/Q2_customer_data.csv\", header=True, inferSchema=True)\n",
    "user_df = user_df.filter(~col(\"InvoiceNo\").startswith(\"c\"))\n",
    "user_df = user_df.select(\"StockCode\", \"Quantity\", \"UnitPrice\", \"CustomerID\")\n",
    "selected_columns = [\"StockCodeOHE\", \"Quantity\", \"UnitPrice\", \"CustomerID\"]\n",
    "\n",
    "def trans(df):\n",
    "    df_copy = df.select(\"*\")\n",
    "    columns = []\n",
    "    stringIndexers = []\n",
    "    ohes = []\n",
    "    for col in df.schema:\n",
    "        if isinstance(col.dataType, StringType):\n",
    "            columns.append(col.name + \"OHE\")\n",
    "            stringIndexer = StringIndexer().setInputCol(col.name).setOutputCol(col.name + \"Ind\").fit(df_copy)\n",
    "            df_copy = stringIndexer.transform(df_copy)\n",
    "            ohe = OneHotEncoder().setInputCol(col.name + \"Ind\").setOutputCol(col.name + \"OHE\").fit(df_copy)            \n",
    "            df_copy = ohe.transform(df_copy)\n",
    "            \n",
    "            stringIndexers.append(stringIndexer)\n",
    "            ohes.append(ohe)\n",
    "        else:\n",
    "            columns.append(col.name)\n",
    "    \n",
    "    return df_copy, columns, stringIndexers, ohes\n",
    "\n",
    "user_df, user_cols, stringIndexers, ohes = trans(user_df)"
   ]
  },
  {
   "cell_type": "code",
   "execution_count": 19,
   "id": "08d35074-6c1b-46b4-a68b-17e3073cd571",
   "metadata": {
    "tags": []
   },
   "outputs": [
    {
     "name": "stdout",
     "output_type": "stream",
     "text": [
      "+---------+--------+---------+----------+------------+------------------+\n",
      "|StockCode|Quantity|UnitPrice|CustomerID|StockCodeInd|      StockCodeOHE|\n",
      "+---------+--------+---------+----------+------------+------------------+\n",
      "|   85123A|       6|     2.55|     17850|         0.0|  (3683,[0],[1.0])|\n",
      "|    71053|       6|     3.39|     17850|       403.0|(3683,[403],[1.0])|\n",
      "|   84406B|       8|     2.75|     17850|       456.0|(3683,[456],[1.0])|\n",
      "|   84029G|       6|     3.39|     17850|       286.0|(3683,[286],[1.0])|\n",
      "|   84029E|       6|     3.39|     17850|       281.0|(3683,[281],[1.0])|\n",
      "+---------+--------+---------+----------+------------+------------------+\n",
      "only showing top 5 rows\n",
      "\n"
     ]
    }
   ],
   "source": [
    "user_df.show(5)"
   ]
  },
  {
   "cell_type": "code",
   "execution_count": 20,
   "id": "3a386d34-50ae-410a-aa4d-54936fc0bc3a",
   "metadata": {
    "tags": []
   },
   "outputs": [
    {
     "name": "stderr",
     "output_type": "stream",
     "text": [
      "                                                                                \r"
     ]
    }
   ],
   "source": [
    "user_df = user_df \\\n",
    "    .groupBy(\"CustomerID\") \\\n",
    "    .agg(\n",
    "        F.avg(col(\"Quantity\")).alias(\"AvgQuantity\"), \n",
    "        F.avg(col(\"UnitPrice\")).alias(\"AvgAmount\"),\n",
    "        F.max(\"StockCodeOHE\").alias(\"MaxStockCodeOHE\")\n",
    "    )\n",
    "\n",
    "assembler = VectorAssembler(inputCols=[\"AvgQuantity\", \"AvgAmount\", \"MaxStockCodeOHE\"], outputCol=\"features\")\n",
    "user_df = assembler.transform(user_df)\n",
    "\n",
    "scaler = StandardScaler(inputCol=\"features\", outputCol=\"scaledFeatures\")\n",
    "scaler_model = scaler.fit(user_df)\n",
    "user_df = scaler_model.transform(user_df)\n",
    "\n",
    "evaluator = ClusteringEvaluator()\n",
    "\n",
    "silhouette_scores = []\n",
    "for k in range(2, 11):\n",
    "    kmeans = KMeans(featuresCol=\"scaledFeatures\", k=k)\n",
    "    model = kmeans.fit(user_df)\n",
    "    predictions = model.transform(user_df)\n",
    "    silhouette_score = evaluator.evaluate(predictions)\n",
    "    silhouette_scores.append(silhouette_score)\n",
    "\n"
   ]
  },
  {
   "cell_type": "code",
   "execution_count": 21,
   "id": "b93c4b3f-7dbf-43f7-a568-9d1afae93ad7",
   "metadata": {
    "tags": []
   },
   "outputs": [
    {
     "name": "stdout",
     "output_type": "stream",
     "text": [
      "Cluster Centers: \n",
      "[0.10512723 0.05508396 0.01514455 ... 0.         0.         0.01514455]\n",
      "[0.00067605 0.02486922 0.         ... 0.         0.         0.        ]\n",
      "[0.0077554  0.01681575 0.         ... 0.         0.         0.        ]\n"
     ]
    },
    {
     "name": "stderr",
     "output_type": "stream",
     "text": [
      "[Stage 636:>                                                      (0 + 11) / 11]\r"
     ]
    },
    {
     "name": "stdout",
     "output_type": "stream",
     "text": [
      "+----------+----------+\n",
      "|CustomerID|prediction|\n",
      "+----------+----------+\n",
      "|     12346|         0|\n",
      "|     12347|         0|\n",
      "|     12348|         0|\n",
      "|     12349|         0|\n",
      "|     12350|         0|\n",
      "|     12352|         0|\n",
      "|     12353|         0|\n",
      "|     12354|         0|\n",
      "|     12355|         0|\n",
      "|     12356|         0|\n",
      "|     12357|         0|\n",
      "|     12358|         0|\n",
      "|     12359|         0|\n",
      "|     12360|         0|\n",
      "|     12361|         0|\n",
      "|     12362|         0|\n",
      "|     12363|         0|\n",
      "|     12364|         0|\n",
      "|     12365|         0|\n",
      "|     12367|         0|\n",
      "+----------+----------+\n",
      "only showing top 20 rows\n",
      "\n"
     ]
    },
    {
     "name": "stderr",
     "output_type": "stream",
     "text": [
      "                                                                                \r"
     ]
    }
   ],
   "source": [
    "# Plot silhouette_scores to find the optimal k\n",
    "optimal_k = np.argmax(silhouette_scores) + 2\n",
    "k = optimal_k \n",
    "kmeans = KMeans(featuresCol=\"scaledFeatures\", k = k)\n",
    "model = kmeans.fit(user_df)\n",
    "predictions = model.transform(user_df)\n",
    "\n",
    "print(\"Cluster Centers: \")\n",
    "centers = model.clusterCenters()\n",
    "for center in centers:\n",
    "    print(center)\n",
    "\n",
    "predictions.select(\"CustomerID\", \"prediction\").show()"
   ]
  },
  {
   "cell_type": "code",
   "execution_count": 22,
   "id": "c020f464-62bd-4b14-b337-f4e37b58a972",
   "metadata": {
    "tags": []
   },
   "outputs": [
    {
     "name": "stderr",
     "output_type": "stream",
     "text": [
      "                                                                                \r"
     ]
    }
   ],
   "source": [
    "pca = PCA(k = k, inputCol=\"scaledFeatures\", outputCol=\"pcaFeatures\")\n",
    "pca_model = pca.fit(predictions)\n",
    "predictions = pca_model.transform(predictions)"
   ]
  },
  {
   "cell_type": "code",
   "execution_count": 23,
   "id": "bcd2f5c9-11a6-47e6-8a49-863a0b73701f",
   "metadata": {
    "tags": []
   },
   "outputs": [
    {
     "name": "stderr",
     "output_type": "stream",
     "text": [
      "                                                                                \r"
     ]
    }
   ],
   "source": [
    "pred_data = predictions.select(\"pcaFeatures\", \"prediction\").rdd.map(lambda x: (x.prediction, x.pcaFeatures.toArray())).collect()\n",
    "clusters, features = zip(*pred_data)\n",
    "features = np.array(features)"
   ]
  },
  {
   "cell_type": "code",
   "execution_count": 24,
   "id": "6c4e6ceb-70e5-4d0c-b776-77901401dba6",
   "metadata": {
    "tags": []
   },
   "outputs": [],
   "source": [
    "tsne = TSNE(n_components = 2, random_state = 42)\n",
    "tsne_results = tsne.fit_transform(features)"
   ]
  },
  {
   "cell_type": "code",
   "execution_count": 25,
   "id": "c9c62d5c-6a36-432d-99a2-ad33613074a5",
   "metadata": {
    "tags": []
   },
   "outputs": [
    {
     "data": {
      "image/png": "[encoded data removed]",
      "text/plain": [
       "<Figure size 1600x960 with 1 Axes>"
      ]
     },
     "metadata": {},
     "output_type": "display_data"
    }
   ],
   "source": [
    "plt.figure(figsize=(10, 6), dpi = 160)\n",
    "for cluster in range(k):\n",
    "    cluster_indices = np.where(np.array(clusters) == cluster)[0]\n",
    "    plt.scatter(tsne_results[cluster_indices, 0], tsne_results[cluster_indices, 1], label=f'Cluster {cluster}', s = 1)\n",
    "\n",
    "plt.title('t-SNE Visualization of Clusters')\n",
    "plt.xlabel('t-SNE Component 1')\n",
    "plt.ylabel('t-SNE Component 2')\n",
    "plt.legend()\n",
    "plt.show()"
   ]
  }
 ],
 "metadata": {
  "kernelspec": {
   "display_name": "Python 3 (ipykernel)",
   "language": "python",
   "name": "python3"
  },
  "language_info": {
   "codemirror_mode": {
    "name": "ipython",
    "version": 3
   },
   "file_extension": ".py",
   "mimetype": "text/x-python",
   "name": "python",
   "nbconvert_exporter": "python",
   "pygments_lexer": "ipython3",
   "version": "3.11.7"
  }
 },
 "nbformat": 4,
 "nbformat_minor": 5
}
