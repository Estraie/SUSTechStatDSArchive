{
 "cells": [
  {
   "cell_type": "code",
   "execution_count": 1,
   "id": "d03ae950-e3c4-4b08-8a8d-c924f0486227",
   "metadata": {
    "tags": []
   },
   "outputs": [],
   "source": [
    "from pyspark import SparkContext, SparkConf\n",
    "from pyspark.sql import SparkSession\n",
    "from pyspark.sql.functions import col, explode, split, regexp_replace, when, expr\n",
    "from pyspark.sql.functions import size, monotonically_increasing_id, concat_ws, collect_list, regexp_extract\n",
    "from pyspark.sql.functions import sum as pyspark_sum"
   ]
  },
  {
   "cell_type": "code",
   "execution_count": 2,
   "id": "2077a58b-5a9c-4df5-87eb-eda6c7cfa659",
   "metadata": {
    "tags": []
   },
   "outputs": [
    {
     "name": "stderr",
     "output_type": "stream",
     "text": [
      "Setting default log level to \"WARN\".\n",
      "To adjust logging level use sc.setLogLevel(newLevel). For SparkR, use setLogLevel(newLevel).\n",
      "24/04/05 07:58:27 WARN NativeCodeLoader: Unable to load native-hadoop library for your platform... using builtin-java classes where applicable\n",
      "24/04/05 07:58:28 WARN Utils: Service 'SparkUI' could not bind on port 4040. Attempting port 4041.\n",
      "24/04/05 07:58:28 WARN Utils: Service 'SparkUI' could not bind on port 4041. Attempting port 4042.\n"
     ]
    }
   ],
   "source": [
    "spark = SparkSession.builder \\\n",
    "    .appName(\"Amino Acid Frequency Calculation\") \\\n",
    "    .getOrCreate()"
   ]
  },
  {
   "cell_type": "code",
   "execution_count": 3,
   "id": "5a099aa4-48ac-43b8-bbf0-555297ff7eba",
   "metadata": {
    "tags": []
   },
   "outputs": [
    {
     "name": "stderr",
     "output_type": "stream",
     "text": [
      "24/04/05 07:58:30 WARN WindowExec: No Partition Defined for Window operation! Moving all data to a single partition, this can cause serious performance degradation.\n",
      "24/04/05 07:58:30 WARN WindowExec: No Partition Defined for Window operation! Moving all data to a single partition, this can cause serious performance degradation.\n",
      "24/04/05 07:58:30 WARN WindowExec: No Partition Defined for Window operation! Moving all data to a single partition, this can cause serious performance degradation.\n",
      "24/04/05 07:58:31 WARN WindowExec: No Partition Defined for Window operation! Moving all data to a single partition, this can cause serious performance degradation.\n",
      "24/04/05 07:58:31 WARN WindowExec: No Partition Defined for Window operation! Moving all data to a single partition, this can cause serious performance degradation.\n",
      "                                                                                \r"
     ]
    },
    {
     "name": "stdout",
     "output_type": "stream",
     "text": [
      "+--------------------+---------+--------+-----+\n",
      "|               value|is_header|line_num|group|\n",
      "+--------------------+---------+--------+-----+\n",
      "|>UniRef50_A0A5A9P...|        1|       0|    1|\n",
      "|MEEITQIKKRLSQTVRL...|        0|       1|    1|\n",
      "|KKEVVAVAKKEEVLKKE...|        0|       2|    1|\n",
      "|DIVPQMRDVSLPPKEEE...|        0|       3|    1|\n",
      "|SLPPKKDEEIVCEKKEV...|        0|       4|    1|\n",
      "+--------------------+---------+--------+-----+\n",
      "only showing top 5 rows\n",
      "\n"
     ]
    }
   ],
   "source": [
    "file_path = \"./as2/Q1_data/protein.fasta\"\n",
    "fasta_df = spark.read.text(file_path)\n",
    "\n",
    "# Identify the lines starting with '>'\n",
    "fasta_df = fasta_df.withColumn(\"is_header\", when(col(\"value\").startswith(\">\"), 1).otherwise(0))\n",
    "fasta_df = fasta_df.withColumn(\"line_num\", monotonically_increasing_id())\n",
    "fasta_df = fasta_df.withColumn(\"group\", expr(\"sum(int(is_header)) over (order by line_num)\"))\n",
    "fasta_df.show(5)"
   ]
  },
  {
   "cell_type": "code",
   "execution_count": 5,
   "id": "d53f3351-cc50-4dd6-b0d3-c8dadd4c32f2",
   "metadata": {
    "tags": []
   },
   "outputs": [
    {
     "name": "stderr",
     "output_type": "stream",
     "text": [
      "24/04/05 07:59:03 WARN WindowExec: No Partition Defined for Window operation! Moving all data to a single partition, this can cause serious performance degradation.\n",
      "24/04/05 07:59:03 WARN WindowExec: No Partition Defined for Window operation! Moving all data to a single partition, this can cause serious performance degradation.\n",
      "24/04/05 07:59:03 WARN WindowExec: No Partition Defined for Window operation! Moving all data to a single partition, this can cause serious performance degradation.\n",
      "24/04/05 07:59:03 WARN WindowExec: No Partition Defined for Window operation! Moving all data to a single partition, this can cause serious performance degradation.\n",
      "24/04/05 07:59:03 WARN WindowExec: No Partition Defined for Window operation! Moving all data to a single partition, this can cause serious performance degradation.\n"
     ]
    },
    {
     "name": "stdout",
     "output_type": "stream",
     "text": [
      "+--------------------+---------+--------+-----+\n",
      "|               value|is_header|line_num|group|\n",
      "+--------------------+---------+--------+-----+\n",
      "|MEEITQIKKRLSQTVRL...|        0|       1|    1|\n",
      "|KKEVVAVAKKEEVLKKE...|        0|       2|    1|\n",
      "|DIVPQMRDVSLPPKEEE...|        0|       3|    1|\n",
      "|SLPPKKDEEIVCEKKEV...|        0|       4|    1|\n",
      "|KEHEEKETFVVLKKEII...|        0|       5|    1|\n",
      "+--------------------+---------+--------+-----+\n",
      "only showing top 5 rows\n",
      "\n"
     ]
    },
    {
     "data": {
      "text/plain": [
       "597583"
      ]
     },
     "execution_count": 5,
     "metadata": {},
     "output_type": "execute_result"
    }
   ],
   "source": [
    "# Filter out lines starting with '>'\n",
    "filtered_df = fasta_df.filter(col(\"is_header\") == 0)\n",
    "\n",
    "# Merge the sequences between '>' lines\n",
    "# merged_df = filtered_df.groupBy(\"group\").agg(concat_ws(\"\", collect_list(\"value\")).alias(\"sequence\"))\n",
    "merged_df = filtered_df\n",
    "\n",
    "merged_df.show(5)\n",
    "merged_df.count()"
   ]
  },
  {
   "cell_type": "code",
   "execution_count": 7,
   "id": "27c62cb6-c1e5-47da-b5dc-da3ea14c77a9",
   "metadata": {
    "tags": []
   },
   "outputs": [
    {
     "name": "stdout",
     "output_type": "stream",
     "text": [
      "+----------+-------+\n",
      "|amino_acid|  count|\n",
      "+----------+-------+\n",
      "|         A|3223081|\n",
      "|         B|      6|\n",
      "|         C| 564455|\n",
      "|         D|2216904|\n",
      "|         E|2674664|\n",
      "|         F| 985877|\n",
      "|         G|2653426|\n",
      "|         H| 628384|\n",
      "|         I|1726915|\n",
      "|         K|1684031|\n",
      "|         L|2851645|\n",
      "|         M| 467474|\n",
      "|         N|1316889|\n",
      "|         P|2097950|\n",
      "|         Q|1422769|\n",
      "|         R|1789613|\n",
      "|         S|2747798|\n",
      "|         T|2795042|\n",
      "|         V|2760761|\n",
      "|         W| 351166|\n",
      "|         X|   1347|\n",
      "|         Y| 823096|\n",
      "|         Z|      2|\n",
      "+----------+-------+\n",
      "\n"
     ]
    }
   ],
   "source": [
    "# Explode the merged sequence into individual amino acids\n",
    "amino_acid_df = merged_df.select(explode(split(col(\"value\"), \"\")).alias(\"amino_acid\"))\n",
    "\n",
    "# Calculate the frequency of each amino acid\n",
    "frequency_df = amino_acid_df.groupBy(\"amino_acid\").count().orderBy(\"amino_acid\")\n",
    "frequency_df.show(23)"
   ]
  },
  {
   "cell_type": "code",
   "execution_count": 8,
   "id": "3efffe7a-f5c3-43d0-a160-422468910792",
   "metadata": {
    "tags": []
   },
   "outputs": [
    {
     "name": "stderr",
     "output_type": "stream",
     "text": [
      "                                                                                \r"
     ]
    },
    {
     "name": "stdout",
     "output_type": "stream",
     "text": [
      "Frequency of each amino acid:\n",
      "A 3223081\n",
      "B 6\n",
      "C 564455\n",
      "D 2216904\n",
      "E 2674664\n",
      "F 985877\n",
      "G 2653426\n",
      "H 628384\n",
      "I 1726915\n",
      "K 1684031\n",
      "L 2851645\n",
      "M 467474\n",
      "N 1316889\n",
      "P 2097950\n",
      "Q 1422769\n",
      "R 1789613\n",
      "S 2747798\n",
      "T 2795042\n",
      "V 2760761\n",
      "W 351166\n",
      "X 1347\n",
      "Y 823096\n",
      "Z 2\n"
     ]
    }
   ],
   "source": [
    "file_path = \"./as2/Q1_data/protein.fasta\"\n",
    "fasta_rdd = spark.sparkContext.textFile(file_path)\n",
    "\n",
    "# Identify lines starting with '>'\n",
    "def is_header(line):\n",
    "    return line.startswith(\">\")\n",
    "\n",
    "# Assign group to each line based on the occurrence of '>'\n",
    "def assign_group(iterator):\n",
    "    group = 0\n",
    "    for line in iterator:\n",
    "        if is_header(line):\n",
    "            group += 1\n",
    "        yield (group, line)\n",
    "\n",
    "# Assign group to each line\n",
    "grouped_rdd = fasta_rdd.mapPartitions(assign_group)\n",
    "\n",
    "# Filter out lines starting with '>'\n",
    "filtered_rdd = grouped_rdd.filter(lambda x: not is_header(x[1]))\n",
    "\n",
    "# Merge the sequences between '>' lines\n",
    "merged_rdd = filtered_rdd.groupByKey().mapValues(lambda lines: \"\".join(lines))\n",
    "\n",
    "# Explode the merged sequence into individual amino acids\n",
    "amino_acid_rdd = merged_rdd.flatMap(lambda x: list(x[1]))\n",
    "\n",
    "# Count the frequency of each amino acid\n",
    "frequency_rdd = amino_acid_rdd.map(lambda x: (x, 1)).reduceByKey(lambda a, b: a + b).sortByKey()\n",
    "\n",
    "# Print the result\n",
    "print(\"Frequency of each amino acid:\")\n",
    "for amino_acid, count in frequency_rdd.collect():\n",
    "    print(amino_acid, count)"
   ]
  },
  {
   "cell_type": "code",
   "execution_count": 10,
   "id": "c6de8b9c-b56f-43bb-83f6-7afd85a8b4cd",
   "metadata": {
    "tags": []
   },
   "outputs": [
    {
     "name": "stderr",
     "output_type": "stream",
     "text": [
      "24/04/05 08:00:31 WARN WindowExec: No Partition Defined for Window operation! Moving all data to a single partition, this can cause serious performance degradation.\n",
      "24/04/05 08:00:31 WARN WindowExec: No Partition Defined for Window operation! Moving all data to a single partition, this can cause serious performance degradation.\n",
      "24/04/05 08:00:31 WARN WindowExec: No Partition Defined for Window operation! Moving all data to a single partition, this can cause serious performance degradation.\n",
      "24/04/05 08:00:31 WARN WindowExec: No Partition Defined for Window operation! Moving all data to a single partition, this can cause serious performance degradation.\n",
      "24/04/05 08:00:31 WARN WindowExec: No Partition Defined for Window operation! Moving all data to a single partition, this can cause serious performance degradation.\n"
     ]
    },
    {
     "name": "stdout",
     "output_type": "stream",
     "text": [
      "+--------------------+---------+--------+-----+----------------+\n",
      "|               value|is_header|line_num|group|stat_occurrences|\n",
      "+--------------------+---------+--------+-----+----------------+\n",
      "|MEEITQIKKRLSQTVRL...|        0|       1|    1|               0|\n",
      "|KKEVVAVAKKEEVLKKE...|        0|       2|    1|               0|\n",
      "|DIVPQMRDVSLPPKEEE...|        0|       3|    1|               0|\n",
      "|SLPPKKDEEIVCEKKEV...|        0|       4|    1|               0|\n",
      "|KEHEEKETFVVLKKEII...|        0|       5|    1|               0|\n",
      "+--------------------+---------+--------+-----+----------------+\n",
      "only showing top 5 rows\n",
      "\n",
      "Total number of occurrences of 'STAT' motif across all proteins: 2052\n"
     ]
    }
   ],
   "source": [
    "# Calculate the total count of \"STAT\" motif across all proteins\n",
    "\n",
    "stat_count_df = merged_df.withColumn(\"stat_occurrences\", (size(split(col(\"value\"), \"STAT\")) - 1))\n",
    "stat_count_df.show(5)\n",
    "\n",
    "total_stat_count = stat_count_df.agg({\"stat_occurrences\": \"sum\"}).collect()[0][0]\n",
    "\n",
    "print(\"Total number of occurrences of 'STAT' motif across all proteins:\", total_stat_count)"
   ]
  },
  {
   "cell_type": "code",
   "execution_count": 12,
   "id": "e98fe4bd-84d4-4166-9cbe-4c45c53928a2",
   "metadata": {
    "tags": []
   },
   "outputs": [
    {
     "name": "stdout",
     "output_type": "stream",
     "text": [
      "+-------+--------------------+--------------------+---------+-----------+----------------------+--------------------+----------------+----------------+--------------+--------------------+\n",
      "|     id|               title|                 url|   rating|num_reviews|num_published_lectures|             created|last_update_date|        duration|instructors_id|               image|\n",
      "+-------+--------------------+--------------------+---------+-----------+----------------------+--------------------+----------------+----------------+--------------+--------------------+\n",
      "| 567828|The Complete Pyth...|/course/complete-...|4.5927815|     452973|                   155|2015-07-29T00:12:23Z|      2021-03-14|  22 total hours|       9685726|https://img-c.ude...|\n",
      "|1565838|The Complete 2023...|/course/the-compl...| 4.667258|     263152|                   490|2018-02-22T12:02:33Z|      2023-01-20|65.5 total hours|      31334738|https://img-c.ude...|\n",
      "| 625204|The Web Developer...|/course/the-web-d...|4.6961474|     254711|                   616|2015-09-28T21:32:19Z|      2023-02-12|  64 total hours|       4466306|https://img-c.ude...|\n",
      "| 756150|Angular - The Com...|/course/the-compl...|4.5926924|     180257|                   472|2016-02-08T17:02:55Z|      2023-02-06|34.5 total hours|      13952972|https://img-c.ude...|\n",
      "|2776760|100 Days of Code:...|/course/100-days-...|4.6952515|     177568|                   676|2020-01-24T10:47:21Z|      2022-11-30|  64 total hours|      31334738|https://img-c.ude...|\n",
      "+-------+--------------------+--------------------+---------+-----------+----------------------+--------------------+----------------+----------------+--------------+--------------------+\n",
      "only showing top 5 rows\n",
      "\n",
      "+------+--------+--------------------+----------+--------------------+--------------------+--------------------+--------------------+--------+--------------------+\n",
      "|_class|      id|               title|      name|        display_name|           job_title|         image_50x50|       image_100x100|initials|                 url|\n",
      "+------+--------+--------------------+----------+--------------------+--------------------+--------------------+--------------------+--------+--------------------+\n",
      "|  user| 9685726|       Jose Portilla|      Jose|       Jose Portilla|Head of Data Scie...|https://img-c.ude...|https://img-c.ude...|      JP| /user/joseportilla/|\n",
      "|  user|31334738|       Dr. Angela Yu|Dr. Angela|       Dr. Angela Yu|Developer and Lea...|https://img-c.ude...|https://img-c.ude...|      DY|/user/4b4368a3-b5...|\n",
      "|  user| 4466306|         Colt Steele|      Colt|         Colt Steele|Developer and Boo...|https://img-b.ude...|https://img-b.ude...|      CS|   /user/coltsteele/|\n",
      "|  user|13952972|Maximilian Schwar...|Maximilian|Maximilian Schwar...|AWS certified, Pr...|https://img-b.ude...|https://img-b.ude...|      MS|/user/maximilian-...|\n",
      "|  user|  599932|        Tim Buchalka|       Tim|        Tim Buchalka|Java Python Andro...|https://img-c.ude...|https://img-c.ude...|      TB|  /user/timbuchalka/|\n",
      "+------+--------+--------------------+----------+--------------------+--------------------+--------------------+--------------------+--------+--------------------+\n",
      "only showing top 5 rows\n",
      "\n"
     ]
    },
    {
     "data": {
      "text/plain": [
       "(None, None)"
      ]
     },
     "execution_count": 12,
     "metadata": {},
     "output_type": "execute_result"
    }
   ],
   "source": [
    "course_path = \"./as2/Q2_data/courses.csv\"\n",
    "instructor_path = \"./as2/Q2_data/instructors.csv\"\n",
    "course_df = spark.read.csv(course_path, header = True)\n",
    "instructor_df = spark.read.csv(instructor_path, header = True)\n",
    "\n",
    "course_df.show(5), instructor_df.show(5)"
   ]
  },
  {
   "cell_type": "code",
   "execution_count": 13,
   "id": "ed1c883d-ce6d-4513-b4ca-b4c7257088e5",
   "metadata": {
    "tags": []
   },
   "outputs": [
    {
     "name": "stdout",
     "output_type": "stream",
     "text": [
      "+-------+--------------------+--------------------+---------+-----------+----------------------+--------------------+----------------+----------------+--------------+--------------------+------+-------------+--------------------+----------+--------------------+--------------------+--------------------+--------------------+--------+--------------------+\n",
      "|     id|               title|                 url|   rating|num_reviews|num_published_lectures|             created|last_update_date|        duration|instructors_id|               image|_class|instructor_id|    instructor_title|      name|        display_name|           job_title|         image_50x50|       image_100x100|initials|                 url|\n",
      "+-------+--------------------+--------------------+---------+-----------+----------------------+--------------------+----------------+----------------+--------------+--------------------+------+-------------+--------------------+----------+--------------------+--------------------+--------------------+--------------------+--------+--------------------+\n",
      "| 567828|The Complete Pyth...|/course/complete-...|4.5927815|     452973|                   155|2015-07-29T00:12:23Z|      2021-03-14|  22 total hours|       9685726|https://img-c.ude...|  user|      9685726|       Jose Portilla|      Jose|       Jose Portilla|Head of Data Scie...|https://img-c.ude...|https://img-c.ude...|      JP| /user/joseportilla/|\n",
      "|1565838|The Complete 2023...|/course/the-compl...| 4.667258|     263152|                   490|2018-02-22T12:02:33Z|      2023-01-20|65.5 total hours|      31334738|https://img-c.ude...|  user|     31334738|       Dr. Angela Yu|Dr. Angela|       Dr. Angela Yu|Developer and Lea...|https://img-c.ude...|https://img-c.ude...|      DY|/user/4b4368a3-b5...|\n",
      "| 625204|The Web Developer...|/course/the-web-d...|4.6961474|     254711|                   616|2015-09-28T21:32:19Z|      2023-02-12|  64 total hours|       4466306|https://img-c.ude...|  user|      4466306|         Colt Steele|      Colt|         Colt Steele|Developer and Boo...|https://img-b.ude...|https://img-b.ude...|      CS|   /user/coltsteele/|\n",
      "| 756150|Angular - The Com...|/course/the-compl...|4.5926924|     180257|                   472|2016-02-08T17:02:55Z|      2023-02-06|34.5 total hours|      13952972|https://img-c.ude...|  user|     13952972|Maximilian Schwar...|Maximilian|Maximilian Schwar...|AWS certified, Pr...|https://img-b.ude...|https://img-b.ude...|      MS|/user/maximilian-...|\n",
      "|2776760|100 Days of Code:...|/course/100-days-...|4.6952515|     177568|                   676|2020-01-24T10:47:21Z|      2022-11-30|  64 total hours|      31334738|https://img-c.ude...|  user|     31334738|       Dr. Angela Yu|Dr. Angela|       Dr. Angela Yu|Developer and Lea...|https://img-c.ude...|https://img-c.ude...|      DY|/user/4b4368a3-b5...|\n",
      "+-------+--------------------+--------------------+---------+-----------+----------------------+--------------------+----------------+----------------+--------------+--------------------+------+-------------+--------------------+----------+--------------------+--------------------+--------------------+--------------------+--------+--------------------+\n",
      "only showing top 5 rows\n",
      "\n"
     ]
    }
   ],
   "source": [
    "instructor_df_renamed = instructor_df.withColumnRenamed(\"id\", \"instructor_id\").withColumnRenamed(\"title\", \"instructor_title\")\n",
    "joined_df = course_df.join(instructor_df_renamed, instructor_df_renamed.instructor_id == course_df.instructors_id, how = \"inner\")\n",
    "joined_df.drop(joined_df[\"instructors_id\"])\n",
    "joined_df.show(5)"
   ]
  },
  {
   "cell_type": "code",
   "execution_count": 14,
   "id": "4fadc8d2-0f60-4e0d-9640-046ca96058a7",
   "metadata": {
    "tags": []
   },
   "outputs": [],
   "source": [
    "course_df.createOrReplaceTempView(\"course\")\n",
    "instructor_df.createOrReplaceTempView(\"instructor\")\n",
    "joined_df.createOrReplaceTempView(\"course_with_instructor\")"
   ]
  },
  {
   "cell_type": "code",
   "execution_count": 18,
   "id": "e6e55817-dfaf-43e1-a9dd-637de6586ce5",
   "metadata": {
    "tags": []
   },
   "outputs": [
    {
     "name": "stdout",
     "output_type": "stream",
     "text": [
      "+------------+-------------------------------------+---------+\n",
      "|display_name|job_title                            |rating   |\n",
      "+------------+-------------------------------------+---------+\n",
      "|Deby Coles  |Sewer, Artist, Crafter and Instructor|4.6432705|\n",
      "+------------+-------------------------------------+---------+\n",
      "\n"
     ]
    }
   ],
   "source": [
    "q2_2_df = spark.sql(\"\"\"\n",
    "    select \n",
    "        display_name,\n",
    "        job_title,\n",
    "        rating\n",
    "    from\n",
    "        course_with_instructor\n",
    "    where\n",
    "        title like \"%spark%\"\n",
    "    and \n",
    "        created >= \"2018-01-01 00:00:00\"\n",
    "    and \n",
    "        rating = (\n",
    "            select \n",
    "                max(rating) \n",
    "            from \n",
    "                course_with_instructor \n",
    "            where \n",
    "                title like \"%spark%\" \n",
    "            and \n",
    "                created >= \"2018-01-01 00:00:00\"\n",
    "        )\n",
    "    order by\n",
    "        rating desc\n",
    "\"\"\")\n",
    "q2_2_df.show(truncate = False)"
   ]
  },
  {
   "cell_type": "code",
   "execution_count": 19,
   "id": "2139063c-7ec8-4968-8986-40ed0fa39595",
   "metadata": {
    "tags": []
   },
   "outputs": [
    {
     "name": "stdout",
     "output_type": "stream",
     "text": [
      "+-------+------------------------------------------------------------+--------------------+------+\n",
      "|id     |title                                                       |created             |rating|\n",
      "+-------+------------------------------------------------------------+--------------------+------+\n",
      "|4886926|Interview Oriented Data Structure Arrays & Linked List C|C++|2022-09-17T17:57:14Z|5.0   |\n",
      "|4309400|CATIA V5 FOR JOBS INTERVIEW                                 |2021-09-20T12:54:23Z|5.0   |\n",
      "|4829150|Réaliser des interviews au rendu professionnel (PARTIE 2)   |2022-08-12T14:54:06Z|4.9   |\n",
      "|4722894|\"The \"\"BigTech\"\" System Design Interview Bootcamp\"          |2022-06-07T14:53:40Z|4.9   |\n",
      "|4499476|Power BI Interview Questions and Answers                    |2022-01-17T11:08:03Z|4.9   |\n",
      "|4266596|C#/.NET - 50 Essential Interview Questions (Junior Level)   |2021-08-27T13:46:55Z|4.9   |\n",
      "|4189444|SAP MM Mock Interview Videos Part 1                         |2021-07-17T04:48:21Z|4.9   |\n",
      "|4149490|Mastering critical SKILLS for Coding Interviews C++: Part 1 |2021-06-27T16:11:33Z|4.9   |\n",
      "|1493228|JavaScript Interview Prep: Practice Problems                |2018-01-03T20:33:09Z|4.9   |\n",
      "|4851774|Win your Product Management job interview with Big Tech's PM|2022-08-26T10:43:53Z|4.8   |\n",
      "|4607826|Docker & Kubernetes Interview Readiness Course              |2022-03-22T12:41:09Z|4.8   |\n",
      "|4562744|C#/.NET - 50 Essential Interview Questions (Mid Level)      |2022-02-21T16:40:51Z|4.8   |\n",
      "|3872994|Java Multithreading & Concurrency - Interview Practice Exams|2021-02-24T18:28:10Z|4.8   |\n",
      "|3588944|Coding Interview Bootcamp: Algorithms (Java, Python, C++)   |2020-10-23T19:48:55Z|4.8   |\n",
      "|3366332|Salesforce Business Analyst Interviews Questions & Answers  |2020-07-26T09:38:02Z|4.8   |\n",
      "|2537130|Dynamic Programming Python, Coding Interviews & Applications|2019-08-31T16:29:28Z|4.8   |\n",
      "|1927620|The Real Estate Financial Modeling Interview Exam Guide     |2018-09-23T04:19:22Z|4.8   |\n",
      "|1386504|Get your JAVA dream job! Collection Interview Questions     |2017-10-08T18:14:24Z|4.8   |\n",
      "|1157988|Get your Java dream job! Beginners interview preparation    |2017-03-25T22:54:38Z|4.8   |\n",
      "|816152 |Algorithms Data Structures in Java #2 (+INTERVIEW QUESTIONS)|2016-04-08T06:35:28Z|4.8   |\n",
      "+-------+------------------------------------------------------------+--------------------+------+\n",
      "only showing top 20 rows\n",
      "\n"
     ]
    }
   ],
   "source": [
    "q2_3_df = spark.sql(\"\"\"\n",
    "    select \n",
    "        id,\n",
    "        title,\n",
    "        created,\n",
    "        round(rating, 1) AS rating\n",
    "    from\n",
    "        course\n",
    "    where\n",
    "        lower(title) like \"%interview%\"\n",
    "    order by\n",
    "        rating desc,\n",
    "        created desc\n",
    "\"\"\")\n",
    "q2_3_df.show(truncate = False)"
   ]
  }
 ],
 "metadata": {
  "kernelspec": {
   "display_name": "Python 3 (ipykernel)",
   "language": "python",
   "name": "python3"
  },
  "language_info": {
   "codemirror_mode": {
    "name": "ipython",
    "version": 3
   },
   "file_extension": ".py",
   "mimetype": "text/x-python",
   "name": "python",
   "nbconvert_exporter": "python",
   "pygments_lexer": "ipython3",
   "version": "3.11.7"
  }
 },
 "nbformat": 4,
 "nbformat_minor": 5
}
